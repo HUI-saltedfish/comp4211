{
 "cells": [
  {
   "cell_type": "markdown",
   "metadata": {},
   "source": [
    "Imports"
   ]
  },
  {
   "cell_type": "code",
   "execution_count": 4,
   "metadata": {},
   "outputs": [
    {
     "ename": "BadZipFile",
     "evalue": "File is not a zip file",
     "output_type": "error",
     "traceback": [
      "\u001b[1;31m---------------------------------------------------------------------------\u001b[0m",
      "\u001b[1;31mBadZipFile\u001b[0m                                Traceback (most recent call last)",
      "Cell \u001b[1;32mIn [4], line 7\u001b[0m\n\u001b[0;32m      4\u001b[0m \u001b[38;5;28;01mimport\u001b[39;00m \u001b[38;5;21;01mrandom\u001b[39;00m\n\u001b[0;32m      5\u001b[0m \u001b[38;5;28;01mimport\u001b[39;00m \u001b[38;5;21;01mzipfile\u001b[39;00m \u001b[38;5;28;01mas\u001b[39;00m \u001b[38;5;21;01mzf\u001b[39;00m\n\u001b[1;32m----> 7\u001b[0m file \u001b[38;5;241m=\u001b[39m \u001b[43mzf\u001b[49m\u001b[38;5;241;43m.\u001b[39;49m\u001b[43mZipFile\u001b[49m\u001b[43m(\u001b[49m\u001b[38;5;124;43m\"\u001b[39;49m\u001b[38;5;124;43m./pa2_data_noBonus/train-images-idx3-ubyte.gz\u001b[39;49m\u001b[38;5;124;43m\"\u001b[39;49m\u001b[43m)\u001b[49m\n\u001b[0;32m      9\u001b[0m test_data \u001b[38;5;241m=\u001b[39m np\u001b[38;5;241m.\u001b[39mload(\u001b[38;5;124m'\u001b[39m\u001b[38;5;124m./pa2_data_noBonus/MNIST_test_seq.npy\u001b[39m\u001b[38;5;124m'\u001b[39m)\n",
      "File \u001b[1;32mc:\\Users\\Richie\\AppData\\Local\\Programs\\Python\\Python39\\lib\\zipfile.py:1257\u001b[0m, in \u001b[0;36mZipFile.__init__\u001b[1;34m(self, file, mode, compression, allowZip64, compresslevel, strict_timestamps)\u001b[0m\n\u001b[0;32m   1255\u001b[0m \u001b[39mtry\u001b[39;00m:\n\u001b[0;32m   1256\u001b[0m     \u001b[39mif\u001b[39;00m mode \u001b[39m==\u001b[39m \u001b[39m'\u001b[39m\u001b[39mr\u001b[39m\u001b[39m'\u001b[39m:\n\u001b[1;32m-> 1257\u001b[0m         \u001b[39mself\u001b[39;49m\u001b[39m.\u001b[39;49m_RealGetContents()\n\u001b[0;32m   1258\u001b[0m     \u001b[39melif\u001b[39;00m mode \u001b[39min\u001b[39;00m (\u001b[39m'\u001b[39m\u001b[39mw\u001b[39m\u001b[39m'\u001b[39m, \u001b[39m'\u001b[39m\u001b[39mx\u001b[39m\u001b[39m'\u001b[39m):\n\u001b[0;32m   1259\u001b[0m         \u001b[39m# set the modified flag so central directory gets written\u001b[39;00m\n\u001b[0;32m   1260\u001b[0m         \u001b[39m# even if no files are added to the archive\u001b[39;00m\n\u001b[0;32m   1261\u001b[0m         \u001b[39mself\u001b[39m\u001b[39m.\u001b[39m_didModify \u001b[39m=\u001b[39m \u001b[39mTrue\u001b[39;00m\n",
      "File \u001b[1;32mc:\\Users\\Richie\\AppData\\Local\\Programs\\Python\\Python39\\lib\\zipfile.py:1324\u001b[0m, in \u001b[0;36mZipFile._RealGetContents\u001b[1;34m(self)\u001b[0m\n\u001b[0;32m   1322\u001b[0m     \u001b[39mraise\u001b[39;00m BadZipFile(\u001b[39m\"\u001b[39m\u001b[39mFile is not a zip file\u001b[39m\u001b[39m\"\u001b[39m)\n\u001b[0;32m   1323\u001b[0m \u001b[39mif\u001b[39;00m \u001b[39mnot\u001b[39;00m endrec:\n\u001b[1;32m-> 1324\u001b[0m     \u001b[39mraise\u001b[39;00m BadZipFile(\u001b[39m\"\u001b[39m\u001b[39mFile is not a zip file\u001b[39m\u001b[39m\"\u001b[39m)\n\u001b[0;32m   1325\u001b[0m \u001b[39mif\u001b[39;00m \u001b[39mself\u001b[39m\u001b[39m.\u001b[39mdebug \u001b[39m>\u001b[39m \u001b[39m1\u001b[39m:\n\u001b[0;32m   1326\u001b[0m     \u001b[39mprint\u001b[39m(endrec)\n",
      "\u001b[1;31mBadZipFile\u001b[0m: File is not a zip file"
     ]
    }
   ],
   "source": [
    "import pandas as pd\n",
    "import numpy as np\n",
    "import tensorflow as tf\n",
    "import random\n",
    "import zipfile as zf\n",
    "\n",
    "train_data = zf.ZipFile(\"./pa2_data_noBonus/train-images-idx3-ubyte.gz\")\n",
    "\n",
    "test_data = np.load('./pa2_data_noBonus/MNIST_test_seq.npy')\n",
    "# train_path = \"train.csv\"\n",
    "# test_path = \"test.csv\"\n",
    "\n",
    "# train_df = pd.read_csv(train_path)\n",
    "# test_df = pd.read_csv(test_path)"
   ]
  },
  {
   "cell_type": "code",
   "execution_count": 2,
   "metadata": {},
   "outputs": [],
   "source": [
    "def gen_random_sequence():\n",
    "# ‘‘‘ randomly generate a sequence of a digit’’’\n",
    "  size = 64 - 28\n",
    "  x, y, theta = random.random(), random.random(), random.random() * 2 * np.pi\n",
    "  velocity_y, velocity_x = np.sin(theta), np.cos(theta)\n",
    "  seq_x, seq_y = np.zeros(20), np.zeros(20)\n",
    "  for i in range(20):\n",
    "    y += 0.1*velocity_y\n",
    "    x += 0.1*velocity_x\n",
    "    if x <= 0:\n",
    "      x = 0\n",
    "      velocity_x = -velocity_x\n",
    "    if x >= 1.0:\n",
    "      x = 1.0\n",
    "      velocity_x = -velocity_x\n",
    "    if y <= 0:\n",
    "      y = 0\n",
    "      velocity_y = -velocity_y\n",
    "    if y >= 1.0:\n",
    "      y = 1.0\n",
    "      velocity_y = -velocity_y\n",
    "  seq_x[i], seq_y[i] = x, y\n",
    "  # Scale to the size.\n",
    "  seq_x = (size * seq_x).astype(np.int32)\n",
    "  seq_y = (size * seq_y).astype(np.int32)\n",
    "  return seq_y, seq_x\n"
   ]
  },
  {
   "cell_type": "code",
   "execution_count": 3,
   "metadata": {},
   "outputs": [],
   "source": [
    "def random_mmnist():\n",
    "# ‘‘‘generate frames of moving mnist. ’’’\n",
    "  data = np.zeros((20, 64, 64), dtype=np.float32)\n",
    "  # 10 input + 10 groundtruth = 20\n",
    "  for n in range(2):\n",
    "    seq_y, seq_x = gen_random_sequence()\n",
    "    idx = random.randint(0, mnist_train_im.shape[0] - 1)\n",
    "    mnist_image = mnist_train_im[idx]\n",
    "    for i in range(20):\n",
    "      # put the 2 moving digits into \"data\"\n",
    "      data[i, seq_y[i]:seq_y[i]+28, seq_x[i]:seq_x[i]+28] = np.maximum(\n",
    "        data[i, seq_y[i]:seq_y[i]+28, seq_x[i]:seq_x[i]+28],\n",
    "        mnist_image\n",
    "        )\n",
    "  return data"
   ]
  },
  {
   "cell_type": "markdown",
   "metadata": {},
   "source": [
    "Q1"
   ]
  },
  {
   "cell_type": "code",
   "execution_count": null,
   "metadata": {},
   "outputs": [],
   "source": [
    "import tf.keras.utils.Sequence\n",
    "class MMNISTDataset:\n",
    "  def __init__(self, *arguments):\n",
    "    self.batchsize = arguments.batchsize\n",
    "    self.length = arguments.count()\n",
    "    self.mnist_train_im = train_data\n",
    "    self.mnist_test = test_data\n",
    "    return self\n",
    "\n",
    "  def __len__(self):\n",
    "    return self.length\n",
    "  "
   ]
  }
 ],
 "metadata": {
  "kernelspec": {
   "display_name": "Python 3.9.7 64-bit",
   "language": "python",
   "name": "python3"
  },
  "language_info": {
   "codemirror_mode": {
    "name": "ipython",
    "version": 3
   },
   "file_extension": ".py",
   "mimetype": "text/x-python",
   "name": "python",
   "nbconvert_exporter": "python",
   "pygments_lexer": "ipython3",
   "version": "3.9.7"
  },
  "orig_nbformat": 4,
  "vscode": {
   "interpreter": {
    "hash": "8c58631e91e5d75719792043a6c6c9f7f3cf58eb18da97c57bff252bac6f832a"
   }
  }
 },
 "nbformat": 4,
 "nbformat_minor": 2
}
