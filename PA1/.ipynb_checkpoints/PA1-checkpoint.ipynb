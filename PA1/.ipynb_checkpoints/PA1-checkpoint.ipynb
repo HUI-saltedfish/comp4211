{
 "cells": [
  {
   "cell_type": "markdown",
   "metadata": {
    "id": "B8Bl0lzEyzJ2"
   },
   "source": [
    "Imports"
   ]
  },
  {
   "cell_type": "code",
   "execution_count": 215,
   "metadata": {
    "colab": {
     "base_uri": "https://localhost:8080/"
    },
    "id": "teLlUZNcv_cS",
    "outputId": "ae372fb6-da44-48cc-dc05-a1a1c0f4ab68"
   },
   "outputs": [],
   "source": [
    "import pandas as pd\n",
    "import numpy as np\n",
    "\n",
    "from sklearn.preprocessing import StandardScaler\n",
    "\n",
    "train_path = \"train.csv\"\n",
    "test_path = \"test.csv\"\n",
    "\n",
    "train_df = pd.read_csv(train_path)\n",
    "test_df = pd.read_csv(test_path)"
   ]
  },
  {
   "cell_type": "markdown",
   "metadata": {
    "id": "iIkcaA4wy3e2"
   },
   "source": [
    "Excel data file"
   ]
  },
  {
   "cell_type": "code",
   "execution_count": 216,
   "metadata": {
    "colab": {
     "base_uri": "https://localhost:8080/"
    },
    "id": "bOUuK3lryyjX",
    "outputId": "384bf7c3-805d-47c8-9859-d0d209cc6387"
   },
   "outputs": [
    {
     "name": "stdout",
     "output_type": "stream",
     "text": [
      "      MSSubClass MSZoning  LotFrontage  LotArea Street LotShape LandContour  \\\n",
      "0            120       RL         34.0     5381   Pave      IR1         Lvl   \n",
      "1             20       RL         57.0     9764   Pave      IR1         Lvl   \n",
      "2             60       RL        130.0    40094   Pave      IR1         Bnk   \n",
      "3             20       RL          NaN     8125   Pave      Reg         Lvl   \n",
      "4             60       RL          NaN    10832   Pave      IR1         Lvl   \n",
      "...          ...      ...          ...      ...    ...      ...         ...   \n",
      "996           20       RL         85.0    14536   Pave      Reg         Lvl   \n",
      "997           70       RL         54.0     7588   Pave      Reg         Lvl   \n",
      "998           20       RL         66.0     7800   Pave      IR1         Lvl   \n",
      "999           20       RL         71.0     8197   Pave      Reg         Lvl   \n",
      "1000          60       RL        104.0    21535   Pave      IR1         Lvl   \n",
      "\n",
      "     Utilities LotConfig LandSlope  ... 3SsnPorch ScreenPorch PoolArea  \\\n",
      "0       AllPub    Inside       Gtl  ...         0           0        0   \n",
      "1       AllPub       FR2       Gtl  ...         0           0        0   \n",
      "2       AllPub    Inside       Gtl  ...         0           0        0   \n",
      "3       AllPub    Inside       Gtl  ...         0           0        0   \n",
      "4       AllPub    Corner       Gtl  ...         0           0        0   \n",
      "...        ...       ...       ...  ...       ...         ...      ...   \n",
      "996     AllPub    Inside       Gtl  ...         0           0        0   \n",
      "997     AllPub    Inside       Gtl  ...         0           0        0   \n",
      "998     AllPub    Inside       Gtl  ...         0           0        0   \n",
      "999     AllPub    Inside       Gtl  ...         0           0        0   \n",
      "1000    AllPub    Corner       Gtl  ...         0           0        0   \n",
      "\n",
      "     MiscVal MoSold  YrSold  SaleType  SaleCondition  SalePrice label  \n",
      "0          0      8    2009        WD         Normal     196000     1  \n",
      "1          0      5    2008        WD         Normal     130000     0  \n",
      "2          0     10    2007       New        Partial     184750     1  \n",
      "3          0      2    2006        WD         Normal     230000     1  \n",
      "4        500     10    2008        WD         Normal     194500     1  \n",
      "...      ...    ...     ...       ...            ...        ...   ...  \n",
      "996        0     11    2007        WD         Normal     270000     1  \n",
      "997        0      7    2006        WD         Normal     200100     1  \n",
      "998        0     11    2006        WD        Abnorml     115000     0  \n",
      "999        0      4    2007        WD         Normal     143500     0  \n",
      "1000       0      1    2007        WD         Normal     755000     1  \n",
      "\n",
      "[1001 rows x 76 columns]\n",
      "   MSSubClass MSZoning  LotFrontage  LotArea Street LotShape LandContour  \\\n",
      "0          60       RL         82.0    11287   Pave      Reg         Lvl   \n",
      "1         120       RM          NaN     3072   Pave      Reg         Lvl   \n",
      "2          70       RH         54.0     6629   Pave      Reg         Lvl   \n",
      "3          50       RL         60.0     7200   Pave      Reg         Lvl   \n",
      "4          90       RL         63.0     9297   Pave      Reg         Lvl   \n",
      "\n",
      "  Utilities LotConfig LandSlope  ... 3SsnPorch ScreenPorch PoolArea MiscVal  \\\n",
      "0    AllPub    Inside       Gtl  ...       196           0        0       0   \n",
      "1    AllPub    Inside       Gtl  ...         0           0        0       0   \n",
      "2    AllPub    Inside       Gtl  ...         0           0        0       0   \n",
      "3    AllPub    Corner       Gtl  ...         0           0        0       0   \n",
      "4    AllPub    Inside       Gtl  ...         0           0        0       0   \n",
      "\n",
      "  MoSold  YrSold  SaleType  SaleCondition  SalePrice label  \n",
      "0      1    2007        WD         Normal     228500     1  \n",
      "1      5    2006        WD         Normal     178740     0  \n",
      "2      7    2009        WD         Normal     103600     0  \n",
      "3      6    2007        WD         Normal     175000     0  \n",
      "4      7    2006        WD         Family     188000     1  \n",
      "\n",
      "[5 rows x 76 columns]\n"
     ]
    }
   ],
   "source": [
    "print(train_df)\n",
    "print(test_df.head())"
   ]
  },
  {
   "cell_type": "markdown",
   "metadata": {
    "id": "C8QHild-ORFa"
   },
   "source": [
    "Delete dupplicates and fill empty cells"
   ]
  },
  {
   "cell_type": "code",
   "execution_count": 217,
   "metadata": {
    "colab": {
     "base_uri": "https://localhost:8080/"
    },
    "id": "-fNl6_2t5JTL",
    "outputId": "33af8efd-74df-4d44-8e31-4cdf1da5944f"
   },
   "outputs": [
    {
     "name": "stdout",
     "output_type": "stream",
     "text": [
      "     MSSubClass MSZoning  LotFrontage  LotArea Street LotShape LandContour  \\\n",
      "0           120       RL         34.0     5381   Pave      IR1         Lvl   \n",
      "1            20       RL         57.0     9764   Pave      IR1         Lvl   \n",
      "2            60       RL        130.0    40094   Pave      IR1         Bnk   \n",
      "3            20       RL         70.0     8125   Pave      Reg         Lvl   \n",
      "4            60       RL         70.0    10832   Pave      IR1         Lvl   \n",
      "..          ...      ...          ...      ...    ...      ...         ...   \n",
      "995          20       RL         80.0     9600   Pave      Reg         Lvl   \n",
      "996          20       RL         85.0    14536   Pave      Reg         Lvl   \n",
      "997          70       RL         54.0     7588   Pave      Reg         Lvl   \n",
      "998          20       RL         66.0     7800   Pave      IR1         Lvl   \n",
      "999          20       RL         71.0     8197   Pave      Reg         Lvl   \n",
      "\n",
      "    Utilities LotConfig LandSlope  ... 3SsnPorch ScreenPorch PoolArea MiscVal  \\\n",
      "0      AllPub    Inside       Gtl  ...         0           0        0       0   \n",
      "1      AllPub       FR2       Gtl  ...         0           0        0       0   \n",
      "2      AllPub    Inside       Gtl  ...         0           0        0       0   \n",
      "3      AllPub    Inside       Gtl  ...         0           0        0       0   \n",
      "4      AllPub    Corner       Gtl  ...         0           0        0     500   \n",
      "..        ...       ...       ...  ...       ...         ...      ...     ...   \n",
      "995    AllPub       FR2       Gtl  ...         0           0        0       0   \n",
      "996    AllPub    Inside       Gtl  ...         0           0        0       0   \n",
      "997    AllPub    Inside       Gtl  ...         0           0        0       0   \n",
      "998    AllPub    Inside       Gtl  ...         0           0        0       0   \n",
      "999    AllPub    Inside       Gtl  ...         0           0        0       0   \n",
      "\n",
      "    MoSold  YrSold  SaleType  SaleCondition  SalePrice label  \n",
      "0        8    2009        WD         Normal     196000     1  \n",
      "1        5    2008        WD         Normal     130000     0  \n",
      "2       10    2007       New        Partial     184750     1  \n",
      "3        2    2006        WD         Normal     230000     1  \n",
      "4       10    2008        WD         Normal     194500     1  \n",
      "..     ...     ...       ...            ...        ...   ...  \n",
      "995      5    2007        WD         Normal     181500     1  \n",
      "996     11    2007        WD         Normal     270000     1  \n",
      "997      7    2006        WD         Normal     200100     1  \n",
      "998     11    2006        WD        Abnorml     115000     0  \n",
      "999      4    2007        WD         Normal     143500     0  \n",
      "\n",
      "[1000 rows x 76 columns]\n",
      "     MSSubClass MSZoning  LotFrontage  LotArea Street LotShape LandContour  \\\n",
      "0            60       RL         82.0    11287   Pave      Reg         Lvl   \n",
      "1           120       RM         67.0     3072   Pave      Reg         Lvl   \n",
      "2            70       RH         54.0     6629   Pave      Reg         Lvl   \n",
      "3            50       RL         60.0     7200   Pave      Reg         Lvl   \n",
      "4            90       RL         63.0     9297   Pave      Reg         Lvl   \n",
      "..          ...      ...          ...      ...    ...      ...         ...   \n",
      "454          20       RL         65.0     8450   Pave      Reg         Lvl   \n",
      "455          60       RL         67.0    10316   Pave      IR1         Lvl   \n",
      "456          60       RL         59.0    11796   Pave      IR1         Lvl   \n",
      "457          20       RL         80.0     9200   Pave      Reg         Lvl   \n",
      "458          20       RL         70.0    10171   Pave      IR1         Lvl   \n",
      "\n",
      "    Utilities LotConfig LandSlope  ... 3SsnPorch ScreenPorch PoolArea MiscVal  \\\n",
      "0      AllPub    Inside       Gtl  ...       196           0        0       0   \n",
      "1      AllPub    Inside       Gtl  ...         0           0        0       0   \n",
      "2      AllPub    Inside       Gtl  ...         0           0        0       0   \n",
      "3      AllPub    Corner       Gtl  ...         0           0        0       0   \n",
      "4      AllPub    Inside       Gtl  ...         0           0        0       0   \n",
      "..        ...       ...       ...  ...       ...         ...      ...     ...   \n",
      "454    AllPub    Inside       Gtl  ...         0           0        0       0   \n",
      "455    AllPub    Inside       Gtl  ...         0           0        0       0   \n",
      "456    AllPub    Inside       Gtl  ...         0           0        0       0   \n",
      "457    AllPub    Inside       Gtl  ...         0           0        0       0   \n",
      "458    AllPub    Inside       Gtl  ...         0           0        0       0   \n",
      "\n",
      "    MoSold  YrSold  SaleType  SaleCondition  SalePrice label  \n",
      "0        1    2007        WD         Normal     228500     1  \n",
      "1        5    2006        WD         Normal     178740     0  \n",
      "2        7    2009        WD         Normal     103600     0  \n",
      "3        6    2007        WD         Normal     175000     0  \n",
      "4        7    2006        WD         Family     188000     1  \n",
      "..     ...     ...       ...            ...        ...   ...  \n",
      "454     12    2007        WD         Normal     179000     0  \n",
      "455      6    2008        WD         Normal     235000     1  \n",
      "456      7    2007        WD         Normal     215000     1  \n",
      "457      7    2008        WD         Normal     140000     0  \n",
      "458      3    2010        WD         Normal     214000     1  \n",
      "\n",
      "[459 rows x 76 columns]\n"
     ]
    }
   ],
   "source": [
    "train_df.drop_duplicates(inplace= True)\n",
    "test_df.drop_duplicates(inplace= True)\n",
    "\n",
    "for column in train_df:\n",
    "  if(train_df[column].dtypes == np.int64 or train_df[column].dtypes == np.float64):\n",
    "    train_df[column] = train_df[column].fillna(train_df[column].median())\n",
    "  else:\n",
    "    train_df[column] = train_df[column].fillna(\"None\")\n",
    "\n",
    "for column in test_df:\n",
    "  if(test_df[column].dtypes == np.int64 or test_df[column].dtypes == np.float64):\n",
    "    test_df[column] = test_df[column].fillna(test_df[column].median())\n",
    "  else:\n",
    "    test_df[column] = test_df[column].fillna(\"None\")\n",
    "print(train_df)\n",
    "print(test_df)\n",
    "# train_df.to_excel('pa1test.xlsx')\n",
    "# from google.colab import files\n",
    "# files.download('pa1test.xlsx')"
   ]
  },
  {
   "cell_type": "code",
   "execution_count": 218,
   "metadata": {
    "id": "ojjojKVQiZmo"
   },
   "outputs": [
    {
     "name": "stderr",
     "output_type": "stream",
     "text": [
      "C:\\Users\\Richie\\AppData\\Local\\Temp\\ipykernel_71184\\744496079.py:4: FutureWarning: The frame.append method is deprecated and will be removed from pandas in a future version. Use pandas.concat instead.\n",
      "  combined_df = train_df_edit.append(test_df_edit)\n"
     ]
    }
   ],
   "source": [
    "train_df_edit = train_df.iloc[:,:74]\n",
    "saleprice_df_edit = train_df.iloc[:,74:]\n",
    "test_df_edit = test_df.iloc[:,:74]\n",
    "combined_df = train_df_edit.append(test_df_edit)\n",
    "combined_df = pd.get_dummies(combined_df, drop_first= True)"
   ]
  },
  {
   "cell_type": "code",
   "execution_count": 219,
   "metadata": {
    "colab": {
     "base_uri": "https://localhost:8080/"
    },
    "id": "uBwFwV3KV8Ub",
    "outputId": "eddde846-7da7-4d31-e5ac-0782b6d28bbb"
   },
   "outputs": [
    {
     "name": "stdout",
     "output_type": "stream",
     "text": [
      "     MSSubClass  LotFrontage  LotArea  OverallQual  OverallCond  YearBuilt  \\\n",
      "0           120         34.0     5381            6            5       2005   \n",
      "1            20         57.0     9764            5            7       1967   \n",
      "2            60        130.0    40094           10            5       2007   \n",
      "3            20         70.0     8125            7            5       2002   \n",
      "4            60         70.0    10832            7            5       1994   \n",
      "..          ...          ...      ...          ...          ...        ...   \n",
      "995          20         80.0     9600            6            8       1976   \n",
      "996          20         85.0    14536            8            5       2002   \n",
      "997          70         54.0     7588            7            6       1920   \n",
      "998          20         66.0     7800            5            5       1964   \n",
      "999          20         71.0     8197            6            5       1977   \n",
      "\n",
      "     YearRemodAdd  MasVnrArea  BsmtFinSF1  BsmtFinSF2  ...  SaleType_ConLI  \\\n",
      "0            2005       135.0         900           0  ...               0   \n",
      "1            2003         0.0         702           0  ...               0   \n",
      "2            2008       762.0        2260           0  ...               0   \n",
      "3            2002       295.0         986           0  ...               0   \n",
      "4            1996         0.0           0           0  ...               0   \n",
      "..            ...         ...         ...         ...  ...             ...   \n",
      "995          1976         0.0         978           0  ...               0   \n",
      "996          2003       236.0        1300           0  ...               0   \n",
      "997          1950         0.0         352           0  ...               0   \n",
      "998          1964         0.0         312         600  ...               0   \n",
      "999          1977       148.0           0           0  ...               0   \n",
      "\n",
      "     SaleType_ConLw  SaleType_New  SaleType_Oth  SaleType_WD  \\\n",
      "0                 0             0             0            1   \n",
      "1                 0             0             0            1   \n",
      "2                 0             1             0            0   \n",
      "3                 0             0             0            1   \n",
      "4                 0             0             0            1   \n",
      "..              ...           ...           ...          ...   \n",
      "995               0             0             0            1   \n",
      "996               0             0             0            1   \n",
      "997               0             0             0            1   \n",
      "998               0             0             0            1   \n",
      "999               0             0             0            1   \n",
      "\n",
      "     SaleCondition_AdjLand  SaleCondition_Alloca  SaleCondition_Family  \\\n",
      "0                        0                     0                     0   \n",
      "1                        0                     0                     0   \n",
      "2                        0                     0                     0   \n",
      "3                        0                     0                     0   \n",
      "4                        0                     0                     0   \n",
      "..                     ...                   ...                   ...   \n",
      "995                      0                     0                     0   \n",
      "996                      0                     0                     0   \n",
      "997                      0                     0                     0   \n",
      "998                      0                     0                     0   \n",
      "999                      0                     0                     0   \n",
      "\n",
      "     SaleCondition_Normal  SaleCondition_Partial  \n",
      "0                       1                      0  \n",
      "1                       1                      0  \n",
      "2                       0                      1  \n",
      "3                       1                      0  \n",
      "4                       1                      0  \n",
      "..                    ...                    ...  \n",
      "995                     1                      0  \n",
      "996                     1                      0  \n",
      "997                     1                      0  \n",
      "998                     0                      0  \n",
      "999                     1                      0  \n",
      "\n",
      "[1000 rows x 242 columns]\n",
      "     MSSubClass  LotFrontage  LotArea  OverallQual  OverallCond  YearBuilt  \\\n",
      "0            60         82.0    11287            7            6       1989   \n",
      "1           120         67.0     3072            7            5       2004   \n",
      "2            70         54.0     6629            6            6       1925   \n",
      "3            50         60.0     7200            5            7       1937   \n",
      "4            90         63.0     9297            5            5       1976   \n",
      "..          ...          ...      ...          ...          ...        ...   \n",
      "454          20         65.0     8450            7            5       2000   \n",
      "455          60         67.0    10316            7            5       2000   \n",
      "456          60         59.0    11796            7            5       2004   \n",
      "457          20         80.0     9200            6            6       1965   \n",
      "458          20         70.0    10171            7            5       2004   \n",
      "\n",
      "     YearRemodAdd  MasVnrArea  BsmtFinSF1  BsmtFinSF2  ...  SaleType_ConLI  \\\n",
      "0            1989       340.0         421           0  ...               0   \n",
      "1            2004        18.0           0           0  ...               0   \n",
      "2            1950         0.0         551           0  ...               0   \n",
      "3            1950       252.0         569           0  ...               0   \n",
      "4            1976         0.0        1606           0  ...               0   \n",
      "..            ...         ...         ...         ...  ...             ...   \n",
      "454          2001       108.0           0           0  ...               0   \n",
      "455          2000         0.0         735           0  ...               0   \n",
      "456          2005         0.0           0           0  ...               0   \n",
      "457          1965         0.0         892           0  ...               0   \n",
      "458          2004       168.0           2           0  ...               0   \n",
      "\n",
      "     SaleType_ConLw  SaleType_New  SaleType_Oth  SaleType_WD  \\\n",
      "0                 0             0             0            1   \n",
      "1                 0             0             0            1   \n",
      "2                 0             0             0            1   \n",
      "3                 0             0             0            1   \n",
      "4                 0             0             0            1   \n",
      "..              ...           ...           ...          ...   \n",
      "454               0             0             0            1   \n",
      "455               0             0             0            1   \n",
      "456               0             0             0            1   \n",
      "457               0             0             0            1   \n",
      "458               0             0             0            1   \n",
      "\n",
      "     SaleCondition_AdjLand  SaleCondition_Alloca  SaleCondition_Family  \\\n",
      "0                        0                     0                     0   \n",
      "1                        0                     0                     0   \n",
      "2                        0                     0                     0   \n",
      "3                        0                     0                     0   \n",
      "4                        0                     0                     1   \n",
      "..                     ...                   ...                   ...   \n",
      "454                      0                     0                     0   \n",
      "455                      0                     0                     0   \n",
      "456                      0                     0                     0   \n",
      "457                      0                     0                     0   \n",
      "458                      0                     0                     0   \n",
      "\n",
      "     SaleCondition_Normal  SaleCondition_Partial  \n",
      "0                       1                      0  \n",
      "1                       1                      0  \n",
      "2                       1                      0  \n",
      "3                       1                      0  \n",
      "4                       0                      0  \n",
      "..                    ...                    ...  \n",
      "454                     1                      0  \n",
      "455                     1                      0  \n",
      "456                     1                      0  \n",
      "457                     1                      0  \n",
      "458                     1                      0  \n",
      "\n",
      "[459 rows x 242 columns]\n"
     ]
    }
   ],
   "source": [
    "new_train_df = combined_df[0:1000]\n",
    "new_test_df = combined_df[1000:1459]\n",
    "print(new_train_df)\n",
    "print(new_test_df)"
   ]
  },
  {
   "cell_type": "code",
   "execution_count": 220,
   "metadata": {
    "id": "RH73NXUTXNfS"
   },
   "outputs": [],
   "source": [
    "object= StandardScaler()\n",
    "scaling_factor = object.fit(new_train_df)\n",
    "new_train_df_norm = scaling_factor.transform(new_train_df)\n",
    "new_test_df_norm = scaling_factor.transform(new_test_df)\n",
    "# pd.DataFrame(new_train_df_norm, columns=new_train_df.columns).plot.box(figsize=(20,5), rot=90)\n",
    "# new_test_df_norm_df = pd.DataFrame(new_train_df_norm, columns= new_train_df.columns)\n",
    "# new_test_df_norm_df.to_excel('pa1test.xlsx')"
   ]
  },
  {
   "cell_type": "markdown",
   "metadata": {
    "id": "G4NLqVd6xrI2"
   },
   "source": [
    "Q2 Visualize the correlation between every two of the first 10 features with a 10*10 heatmap."
   ]
  },
  {
   "cell_type": "code",
   "execution_count": 221,
   "metadata": {
    "colab": {
     "base_uri": "https://localhost:8080/",
     "height": 351
    },
    "id": "-H9J4N5bxsTw",
    "outputId": "17d1c350-c38b-48d4-d4e4-f13028259423"
   },
   "outputs": [
    {
     "data": {
      "text/plain": [
       "<AxesSubplot:>"
      ]
     },
     "execution_count": 221,
     "metadata": {},
     "output_type": "execute_result"
    },
    {
     "data": {
      "image/png": "[encoded data removed]",
      "text/plain": [
       "<Figure size 432x288 with 2 Axes>"
      ]
     },
     "metadata": {
      "needs_background": "light"
     },
     "output_type": "display_data"
    }
   ],
   "source": [
    "import seaborn as sns\n",
    "\n",
    "q2_array = new_train_df_norm[:,:10]\n",
    "q2_df = pd.DataFrame(q2_array, columns= new_train_df.columns[:10])\n",
    "\n",
    "corr_matrix = q2_df.corr()\n",
    "sns.heatmap(corr_matrix)"
   ]
  },
  {
   "cell_type": "markdown",
   "metadata": {
    "id": "Tu2s-ijv4vYD"
   },
   "source": [
    "Q3 Use two different regression models to perform\n",
    "feature selection and calculate the corresponding R^2\n",
    "score."
   ]
  },
  {
   "cell_type": "code",
   "execution_count": 222,
   "metadata": {
    "id": "bNp1PDk8498c",
    "scrolled": false
   },
   "outputs": [
    {
     "name": "stdout",
     "output_type": "stream",
     "text": [
      "R^2 Score for Linear Regression:  0.6932591777932815\n",
      "R^2 Score for Lasso Regression:  0.8857325048113582\n"
     ]
    },
    {
     "name": "stderr",
     "output_type": "stream",
     "text": [
      "C:\\Users\\Richie\\anaconda3\\lib\\site-packages\\sklearn\\linear_model\\_coordinate_descent.py:647: ConvergenceWarning: Objective did not converge. You might want to increase the number of iterations, check the scale of the features or consider increasing regularisation. Duality gap: 3.990e+10, tolerance: 6.296e+08\n",
      "  model = cd_fast.enet_coordinate_descent(\n"
     ]
    }
   ],
   "source": [
    "from sklearn.feature_selection import SelectFromModel\n",
    "from sklearn.linear_model import LinearRegression\n",
    "from sklearn import linear_model\n",
    "from sklearn.metrics import r2_score\n",
    "\n",
    "lr_train_df = pd.DataFrame(new_train_df_norm, columns= new_train_df.columns)\n",
    "lr_test_df = pd.DataFrame(new_test_df_norm, columns= new_test_df.columns)\n",
    "sales_train_df = saleprice_df_edit['SalePrice']\n",
    "log_sales_train_df = np.log(saleprice_df_edit['SalePrice'])\n",
    "\n",
    "selector = SelectFromModel(estimator=LinearRegression()).fit(lr_train_df, log_sales_train_df)\n",
    "selected_lr_train_df = selector.transform(lr_train_df)\n",
    "selected_lr_test_df = selector.transform(lr_test_df)\n",
    "\n",
    "lr_model = LinearRegression() \n",
    "lr_model.fit(selected_lr_train_df, sales_train_df)\n",
    "pred_sales_test = lr_model.predict(selected_lr_test_df)\n",
    "print(\"R^2 Score for Linear Regression: \",r2_score(test_df['SalePrice'], pred_sales_test))\n",
    "\n",
    "selector2 = SelectFromModel(estimator=linear_model.Lasso(alpha=0.005)).fit(lr_train_df, log_sales_train_df)\n",
    "selected_lr_train_df = selector2.transform(lr_train_df)\n",
    "selected_lr_test_df = selector2.transform(lr_test_df)\n",
    "\n",
    "lasso_model = linear_model.Lasso(alpha=0.005, random_state= 4211)\n",
    "lasso_model.fit(selected_lasso_train_df, sales_train_df)\n",
    "pred_sales_test = lasso_model.predict(selected_lasso_test_df)\n",
    "print(\"R^2 Score for Lasso Regression: \",r2_score(test_df['SalePrice'], pred_sales_test))"
   ]
  },
  {
   "cell_type": "markdown",
   "metadata": {},
   "source": [
    "Q4 "
   ]
  },
  {
   "cell_type": "code",
   "execution_count": 223,
   "metadata": {},
   "outputs": [
    {
     "name": "stdout",
     "output_type": "stream",
     "text": [
      "R^2 Score for Linear Regression Lot Area:  0.02053447599941216\n",
      "R^2 Score for Linear Regression Gr Liv Area:  0.3926843861046173\n",
      "R^2 Score for Linear Regression Overall Qual:  0.5869504375679954\n",
      "R^2 Score for Linear Regression Overall Cond:  0.017107462820201147\n"
     ]
    }
   ],
   "source": [
    "from sklearn.model_selection import train_test_split\n",
    "\n",
    "X_train, X_test, y_train, y_test = train_test_split(lr_train_df, sales_train_df, test_size=0.2, random_state=4211)\n",
    "lot_area = np.reshape(X_train['LotArea'].to_numpy(),(X_train.shape[0],1))\n",
    "gr_liv_area = np.reshape(X_train[\"GrLivArea\"].to_numpy(),(X_train.shape[0],1))\n",
    "overall_qual = np.reshape(X_train[\"OverallQual\"].to_numpy(),(X_train.shape[0],1))\n",
    "overall_cond = np.reshape(X_train[\"OverallCond\"].to_numpy(),(X_train.shape[0],1))\n",
    "\n",
    "lr_model1 = LinearRegression() \n",
    "lr_model1.fit(lot_area, y_train)\n",
    "pred_sales_test1 = lr_model1.predict(np.reshape(X_test['LotArea'].to_numpy(),(X_test.shape[0],1)))\n",
    "print(\"R^2 Score for Linear Regression Lot Area: \",r2_score(y_test, pred_sales_test1))\n",
    "\n",
    "lr_model2 = LinearRegression() \n",
    "lr_model2.fit(gr_liv_area, y_train)\n",
    "pred_sales_test2 = lr_model2.predict(np.reshape(X_test['GrLivArea'].to_numpy(),(X_test.shape[0],1)))\n",
    "print(\"R^2 Score for Linear Regression Gr Liv Area: \",r2_score(y_test, pred_sales_test2))\n",
    "\n",
    "lr_model3 = LinearRegression() \n",
    "lr_model3.fit(overall_qual, y_train)\n",
    "pred_sales_test3 = lr_model3.predict(np.reshape(X_test['OverallQual'].to_numpy(),(X_test.shape[0],1)))\n",
    "print(\"R^2 Score for Linear Regression Overall Qual: \",r2_score(y_test, pred_sales_test3))\n",
    "\n",
    "lr_model4 = LinearRegression() \n",
    "lr_model4.fit(overall_cond, y_train)\n",
    "pred_sales_test4 = lr_model4.predict(np.reshape(X_test['OverallCond'].to_numpy(),(X_test.shape[0],1)))\n",
    "print(\"R^2 Score for Linear Regression Overall Cond: \",r2_score(y_test, pred_sales_test4))\n"
   ]
  },
  {
   "cell_type": "markdown",
   "metadata": {},
   "source": [
    "Q5"
   ]
  },
  {
   "cell_type": "code",
   "execution_count": 224,
   "metadata": {},
   "outputs": [
    {
     "name": "stdout",
     "output_type": "stream",
     "text": [
      "R^2 Score for Linear Regression in Q3:  0.6869985980505635\n"
     ]
    },
    {
     "data": {
      "image/png": "[encoded data removed]",
      "text/plain": [
       "<Figure size 432x288 with 1 Axes>"
      ]
     },
     "metadata": {
      "needs_background": "light"
     },
     "output_type": "display_data"
    },
    {
     "data": {
      "image/png": "[encoded data removed]",
      "text/plain": [
       "<Figure size 432x288 with 1 Axes>"
      ]
     },
     "metadata": {
      "needs_background": "light"
     },
     "output_type": "display_data"
    },
    {
     "data": {
      "image/png": "[encoded data removed]",
      "text/plain": [
       "<Figure size 432x288 with 1 Axes>"
      ]
     },
     "metadata": {
      "needs_background": "light"
     },
     "output_type": "display_data"
    },
    {
     "data": {
      "image/png": "[encoded data removed]",
      "text/plain": [
       "<Figure size 432x288 with 1 Axes>"
      ]
     },
     "metadata": {
      "needs_background": "light"
     },
     "output_type": "display_data"
    }
   ],
   "source": [
    "import matplotlib.pyplot as plt\n",
    "import time\n",
    "\n",
    "X_train2, X_test2, y_train2, y_test2 = train_test_split(selected_lr_train_df, sales_train_df, test_size=0.2, random_state=4211)\n",
    "start = time.time()\n",
    "lr_model5 = LinearRegression()\n",
    "lr_model5.fit(X_train2, y_train2)\n",
    "pred_sales_test5 = lr_model5.predict(X_test2)\n",
    "stop = time.time()\n",
    "print(\"R^2 Score for Linear Regression in Q3: \",r2_score(y_test2, pred_sales_test5))\n",
    "lr_time = stop-start\n",
    "lr_r2_score = r2_score(y_test2, pred_sales_test5)\n",
    "\n",
    "plt.scatter(X_test['LotArea'], y_test)\n",
    "plt.plot(X_test['LotArea'], pred_sales_test1, color='red')\n",
    "plt.show()\n",
    "\n",
    "plt.scatter(X_test['GrLivArea'], y_test)\n",
    "plt.plot(X_test['GrLivArea'], pred_sales_test2, color='red')\n",
    "plt.show()\n",
    "\n",
    "plt.scatter(X_test['OverallQual'], y_test)\n",
    "plt.plot(X_test['OverallQual'], pred_sales_test3, color='red')\n",
    "plt.show()\n",
    "\n",
    "plt.scatter(X_test['OverallCond'], y_test)\n",
    "plt.plot(X_test['OverallCond'], pred_sales_test4, color='red')\n",
    "plt.show()"
   ]
  },
  {
   "cell_type": "markdown",
   "metadata": {},
   "source": [
    "Q6"
   ]
  },
  {
   "cell_type": "code",
   "execution_count": 225,
   "metadata": {},
   "outputs": [
    {
     "name": "stdout",
     "output_type": "stream",
     "text": [
      "R^2 Score for Feed Forward Network (H = 1 random_state= 12 ):  -5.2266038743207\n",
      "Training time:  0.020929336547851562 s\n",
      "R^2 Score for Feed Forward Network (H = 1 random_state= 102 ):  -5.226595903059875\n",
      "Training time:  0.0189361572265625 s\n",
      "R^2 Score for Feed Forward Network (H = 1 random_state= 3006 ):  -5.226473283347459\n",
      "Training time:  0.01993274688720703 s\n",
      "Mean Training Time:  0.01993274688720703\n",
      "STD Training Time:  0.0008137120505041825\n",
      "Mean R^2 Score:  -5.226557686909345\n",
      "STD R^2 Score:  5.9770986239538704e-05\n",
      "\n",
      "R^2 Score for Feed Forward Network (H = 2 random_state= 12 ):  -5.2265352964441725\n",
      "Training time:  0.016944408416748047 s\n",
      "R^2 Score for Feed Forward Network (H = 2 random_state= 102 ):  -5.226459418432854\n",
      "Training time:  0.014950037002563477 s\n",
      "R^2 Score for Feed Forward Network (H = 2 random_state= 3006 ):  -5.226507976633178\n",
      "Training time:  0.01594710350036621 s\n",
      "Mean Training Time:  0.01594718297322591\n",
      "STD Training Time:  0.0008141987223301578\n",
      "Mean R^2 Score:  -5.226500897170068\n",
      "STD R^2 Score:  3.137894462700218e-05\n",
      "\n",
      "R^2 Score for Feed Forward Network (H = 4 random_state= 12 ):  -5.226643805047769\n",
      "Training time:  0.021927595138549805 s\n",
      "R^2 Score for Feed Forward Network (H = 4 random_state= 102 ):  -5.226418931812468\n",
      "Training time:  0.02391982078552246 s\n",
      "R^2 Score for Feed Forward Network (H = 4 random_state= 3006 ):  -5.226496923995242\n",
      "Training time:  0.023920297622680664 s\n",
      "Mean Training Time:  0.02325590451558431\n",
      "STD Training Time:  0.0009392565881879724\n",
      "Mean R^2 Score:  -5.226519886951826\n",
      "STD R^2 Score:  9.32289869801648e-05\n",
      "\n",
      "R^2 Score for Feed Forward Network (H = 8 random_state= 12 ):  -5.226521054881458\n",
      "Training time:  0.026909828186035156 s\n",
      "R^2 Score for Feed Forward Network (H = 8 random_state= 102 ):  -5.226163285101222\n",
      "Training time:  0.0249173641204834 s\n",
      "R^2 Score for Feed Forward Network (H = 8 random_state= 3006 ):  -5.22642951074493\n",
      "Training time:  0.023598670959472656 s\n",
      "Mean Training Time:  0.02514195442199707\n",
      "STD Training Time:  0.0013610709380006045\n",
      "Mean R^2 Score:  -5.22637128357587\n",
      "STD R^2 Score:  0.00015175112591560075\n",
      "\n",
      "R^2 Score for Feed Forward Network (H = 16 random_state= 12 ):  -5.226309225671451\n",
      "Training time:  0.03189253807067871 s\n",
      "R^2 Score for Feed Forward Network (H = 16 random_state= 102 ):  -5.2262507015434565\n",
      "Training time:  0.03388667106628418 s\n",
      "R^2 Score for Feed Forward Network (H = 16 random_state= 3006 ):  -5.226404443389288\n",
      "Training time:  0.037986040115356445 s\n",
      "Mean Training Time:  0.03458841641743978\n",
      "STD Training Time:  0.002536667984518839\n",
      "Mean R^2 Score:  -5.226321456868065\n",
      "STD R^2 Score:  6.335792724852346e-05\n",
      "\n",
      "R^2 Score for Feed Forward Network (H = 32 random_state= 12 ):  0.6396803827462656\n",
      "Training time:  1.655261754989624 s\n",
      "R^2 Score for Feed Forward Network (H = 32 random_state= 102 ):  0.6168047946637063\n",
      "Training time:  2.560718297958374 s\n",
      "R^2 Score for Feed Forward Network (H = 32 random_state= 3006 ):  0.6591016466801731\n",
      "Training time:  2.5149872303009033 s\n",
      "Mean Training Time:  2.2436557610829673\n",
      "STD Training Time:  0.4164760596898721\n",
      "Mean R^2 Score:  0.6385289413633817\n",
      "STD R^2 Score:  0.017286802009421072\n",
      "\n",
      "R^2 Score for Feed Forward Network (H = 64 random_state= 12 ):  0.5801764533093501\n",
      "Training time:  0.336383581161499 s\n",
      "R^2 Score for Feed Forward Network (H = 64 random_state= 102 ):  0.6410176386846083\n",
      "Training time:  2.1766197681427 s\n",
      "R^2 Score for Feed Forward Network (H = 64 random_state= 3006 ):  0.6103726811810235\n",
      "Training time:  0.593583345413208 s\n",
      "Mean Training Time:  1.0355288982391357\n",
      "STD Training Time:  0.8136765162789361\n",
      "Mean R^2 Score:  0.6105222577249939\n",
      "STD R^2 Score:  0.024838535106074082\n",
      "\n",
      "R^2 Score for Feed Forward Network (H = 128 random_state= 12 ):  0.7039979712049755\n",
      "Training time:  0.8661019802093506 s\n",
      "R^2 Score for Feed Forward Network (H = 128 random_state= 102 ):  0.7123999945414186\n",
      "Training time:  0.6334652900695801 s\n",
      "R^2 Score for Feed Forward Network (H = 128 random_state= 3006 ):  0.7070283751903329\n",
      "Training time:  0.5730841159820557 s\n",
      "Mean Training Time:  0.6908837954203287\n",
      "STD Training Time:  0.12632637823409865\n",
      "Mean R^2 Score:  0.7078087803122424\n",
      "STD R^2 Score:  0.003474216760869528\n",
      "\n"
     ]
    }
   ],
   "source": [
    "from sklearn.neural_network import MLPRegressor\n",
    "import time\n",
    "\n",
    "hidden_layer_unit = [1,2,4,8,16,32,64,128]\n",
    "random_state = [12, 102, 3006]\n",
    "X_train, X_test, y_train, y_test = train_test_split(selected_lr_train_df, sales_train_df, test_size=0.2, random_state=4211)\n",
    "\n",
    "for i in hidden_layer_unit:\n",
    "    total_time = []\n",
    "    total_score = []\n",
    "    for j in random_state:\n",
    "        start = time.time()\n",
    "        regr = MLPRegressor(hidden_layer_sizes=(i,i,i,i,i,i), max_iter= 500, early_stopping= True, random_state= j).fit(X_train, y_train)\n",
    "        feed_predict = regr.predict(X_test)\n",
    "        stop = time.time()\n",
    "        r_score = r2_score(y_test, feed_predict)\n",
    "        print(\"R^2 Score for Feed Forward Network (H =\", i,\"random_state=\", j,\"): \",r_score)\n",
    "        print(\"Training time: \",stop-start,\"s\")\n",
    "        total_time.append(stop-start)\n",
    "        total_score.append(r_score)\n",
    "    print(\"Mean Training Time: \",np.mean(total_time))\n",
    "    print(\"STD Training Time: \",np.std(total_time))\n",
    "    print(\"Mean R^2 Score: \",np.mean(total_score))\n",
    "    print(\"STD R^2 Score: \",np.std(total_score))\n",
    "    print(\"\")"
   ]
  },
  {
   "cell_type": "markdown",
   "metadata": {},
   "source": [
    "Q7"
   ]
  },
  {
   "cell_type": "code",
   "execution_count": 227,
   "metadata": {},
   "outputs": [
    {
     "name": "stdout",
     "output_type": "stream",
     "text": [
      "Linear Regression Time:  0.0029909610748291016\n",
      "Linear Regression in R^2 Score:  0.6869985980505635\n",
      "\n",
      "R^2 Score for Feed Forward Network (H = 128 ): 0.7078087803122424\n",
      "Mean Training Time:  0.6908837954203287\n"
     ]
    }
   ],
   "source": [
    "print(\"Linear Regression Time: \",lr_time)\n",
    "print(\"Linear Regression in R^2 Score: \",lr_r2_score)\n",
    "print(\"\")\n",
    "print(\"R^2 Score for Feed Forward Network (H = 128 ): 0.7078087803122424\")\n",
    "print(\"Mean Training Time:  0.6908837954203287\")"
   ]
  },
  {
   "cell_type": "markdown",
   "metadata": {},
   "source": [
    "Q8 in report"
   ]
  },
  {
   "cell_type": "markdown",
   "metadata": {},
   "source": [
    "Q9"
   ]
  },
  {
   "cell_type": "code",
   "execution_count": 272,
   "metadata": {},
   "outputs": [
    {
     "name": "stdout",
     "output_type": "stream",
     "text": [
      "Random State:  3006\n",
      "F1 Score:  0.9056603773584907\n",
      "Accuracy:  0.925\n",
      "Training time:  0.0029900074005126953 s\n",
      "\n",
      "Random State:  2004\n",
      "F1 Score:  0.9221556886227545\n",
      "Accuracy:  0.935\n",
      "Training time:  0.002990245819091797 s\n",
      "\n",
      "Random State:  1002\n",
      "F1 Score:  0.9440993788819876\n",
      "Accuracy:  0.955\n",
      "Training time:  0.0019931793212890625 s\n",
      "\n",
      "Mean of F1 Score:  0.9239718149544109\n",
      "STD of F1 Score:  0.015745114494560966\n",
      "Mean of Accuracy:  0.9383333333333334\n",
      "STD of Accuracy:  0.012472191289246433\n",
      "Mean of Training time:  0.002657810846964518\n",
      "STD of Training time:  0.0004699654688748368\n"
     ]
    }
   ],
   "source": [
    "from sklearn.linear_model import SGDClassifier\n",
    "from sklearn.preprocessing import StandardScaler\n",
    "from sklearn.pipeline import make_pipeline\n",
    "from sklearn.metrics import f1_score\n",
    "from sklearn.metrics import accuracy_score\n",
    "\n",
    "random_state = [3006, 2004, 1002]\n",
    "total_time=[]\n",
    "total_f1=[]\n",
    "total_acc=[]\n",
    "label_train_df = saleprice_df_edit['label']\n",
    "X_train, X_test, y_train, y_test = train_test_split(selected_lr_train_df, label_train_df, test_size=0.2, random_state=4211)\n",
    "\n",
    "for i in random_state:\n",
    "    start = time.time()\n",
    "    clf_model = make_pipeline(StandardScaler(), SGDClassifier(loss=\"log\", random_state= i, learning_rate=\"constant\", eta0= 0.5))\n",
    "    clf_model.fit(X_train, y_train)\n",
    "    predict_clf_label = clf_model.predict(X_test)\n",
    "    stop = time.time()\n",
    "    total_time.append(stop-start)\n",
    "    total_f1.append(f1_score(y_test, predict_clf_label))\n",
    "    total_acc.append(accuracy_score(y_test, predict_clf_label))\n",
    "    \n",
    "    print(\"Random State: \", i)\n",
    "    print(\"F1 Score: \",f1_score(y_test, predict_clf_label))\n",
    "    print(\"Accuracy: \",accuracy_score(y_test, predict_clf_label))\n",
    "    print(\"Training time: \",stop-start,\"s\")\n",
    "    print(\"\")\n",
    "\n",
    "print(\"Mean of F1 Score: \", np.mean(total_f1))\n",
    "print(\"STD of F1 Score: \", np.std(total_f1))\n",
    "print(\"Mean of Accuracy: \", np.mean(total_acc))\n",
    "print(\"STD of Accuracy: \", np.std(total_acc))\n",
    "print(\"Mean of Training time: \", np.mean(total_time))\n",
    "print(\"STD of Training time: \", np.std(total_time))"
   ]
  },
  {
   "cell_type": "markdown",
   "metadata": {},
   "source": [
    "Q10"
   ]
  },
  {
   "cell_type": "code",
   "execution_count": 259,
   "metadata": {},
   "outputs": [
    {
     "name": "stdout",
     "output_type": "stream",
     "text": [
      "True Negative: 113, False Positive: 7, False Negative: 5, True Positive: 75\n"
     ]
    },
    {
     "data": {
      "text/plain": [
       "<AxesSubplot:>"
      ]
     },
     "execution_count": 259,
     "metadata": {},
     "output_type": "execute_result"
    },
    {
     "data": {
      "image/png": "[encoded data removed]",
      "text/plain": [
       "<Figure size 432x288 with 2 Axes>"
      ]
     },
     "metadata": {
      "needs_background": "light"
     },
     "output_type": "display_data"
    }
   ],
   "source": [
    "from sklearn.metrics import confusion_matrix\n",
    "\n",
    "tn, fp, fn, tp = confusion_matrix(y_test, predict_clf_label).ravel()\n",
    "conf_matrix = confusion_matrix(y_test, predict_clf_label)\n",
    "print(f\"True Negative: {tn}, False Positive: {fp}, False Negative: {fn}, True Positive: {tp}\")\n",
    "sns.heatmap(conf_matrix)"
   ]
  },
  {
   "cell_type": "markdown",
   "metadata": {},
   "source": [
    "Q11"
   ]
  },
  {
   "cell_type": "code",
   "execution_count": null,
   "metadata": {},
   "outputs": [],
   "source": []
  }
 ],
 "metadata": {
  "accelerator": "GPU",
  "colab": {
   "collapsed_sections": [],
   "provenance": []
  },
  "kernelspec": {
   "display_name": "Python 3 (ipykernel)",
   "language": "python",
   "name": "python3"
  },
  "language_info": {
   "codemirror_mode": {
    "name": "ipython",
    "version": 3
   },
   "file_extension": ".py",
   "mimetype": "text/x-python",
   "name": "python",
   "nbconvert_exporter": "python",
   "pygments_lexer": "ipython3",
   "version": "3.9.12"
  }
 },
 "nbformat": 4,
 "nbformat_minor": 1
}
