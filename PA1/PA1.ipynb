{
 "cells": [
  {
   "cell_type": "markdown",
   "metadata": {
    "id": "B8Bl0lzEyzJ2"
   },
   "source": [
    "Imports"
   ]
  },
  {
   "cell_type": "code",
   "execution_count": 1,
   "metadata": {
    "colab": {
     "base_uri": "https://localhost:8080/"
    },
    "id": "teLlUZNcv_cS",
    "outputId": "ae372fb6-da44-48cc-dc05-a1a1c0f4ab68"
   },
   "outputs": [],
   "source": [
    "import pandas as pd\n",
    "import numpy as np\n",
    "\n",
    "from sklearn.preprocessing import StandardScaler\n",
    "\n",
    "train_path = \"train.csv\"\n",
    "test_path = \"test.csv\"\n",
    "\n",
    "train_df = pd.read_csv(train_path)\n",
    "test_df = pd.read_csv(test_path)"
   ]
  },
  {
   "cell_type": "markdown",
   "metadata": {
    "id": "iIkcaA4wy3e2"
   },
   "source": [
    "Excel data file"
   ]
  },
  {
   "cell_type": "code",
   "execution_count": 2,
   "metadata": {
    "colab": {
     "base_uri": "https://localhost:8080/"
    },
    "id": "bOUuK3lryyjX",
    "outputId": "384bf7c3-805d-47c8-9859-d0d209cc6387"
   },
   "outputs": [
    {
     "name": "stdout",
     "output_type": "stream",
     "text": [
      "      MSSubClass MSZoning  LotFrontage  LotArea Street LotShape LandContour  \\\n",
      "0            120       RL         34.0     5381   Pave      IR1         Lvl   \n",
      "1             20       RL         57.0     9764   Pave      IR1         Lvl   \n",
      "2             60       RL        130.0    40094   Pave      IR1         Bnk   \n",
      "3             20       RL          NaN     8125   Pave      Reg         Lvl   \n",
      "4             60       RL          NaN    10832   Pave      IR1         Lvl   \n",
      "...          ...      ...          ...      ...    ...      ...         ...   \n",
      "996           20       RL         85.0    14536   Pave      Reg         Lvl   \n",
      "997           70       RL         54.0     7588   Pave      Reg         Lvl   \n",
      "998           20       RL         66.0     7800   Pave      IR1         Lvl   \n",
      "999           20       RL         71.0     8197   Pave      Reg         Lvl   \n",
      "1000          60       RL        104.0    21535   Pave      IR1         Lvl   \n",
      "\n",
      "     Utilities LotConfig LandSlope  ... 3SsnPorch ScreenPorch PoolArea  \\\n",
      "0       AllPub    Inside       Gtl  ...         0           0        0   \n",
      "1       AllPub       FR2       Gtl  ...         0           0        0   \n",
      "2       AllPub    Inside       Gtl  ...         0           0        0   \n",
      "3       AllPub    Inside       Gtl  ...         0           0        0   \n",
      "4       AllPub    Corner       Gtl  ...         0           0        0   \n",
      "...        ...       ...       ...  ...       ...         ...      ...   \n",
      "996     AllPub    Inside       Gtl  ...         0           0        0   \n",
      "997     AllPub    Inside       Gtl  ...         0           0        0   \n",
      "998     AllPub    Inside       Gtl  ...         0           0        0   \n",
      "999     AllPub    Inside       Gtl  ...         0           0        0   \n",
      "1000    AllPub    Corner       Gtl  ...         0           0        0   \n",
      "\n",
      "     MiscVal MoSold  YrSold  SaleType  SaleCondition  SalePrice label  \n",
      "0          0      8    2009        WD         Normal     196000     1  \n",
      "1          0      5    2008        WD         Normal     130000     0  \n",
      "2          0     10    2007       New        Partial     184750     1  \n",
      "3          0      2    2006        WD         Normal     230000     1  \n",
      "4        500     10    2008        WD         Normal     194500     1  \n",
      "...      ...    ...     ...       ...            ...        ...   ...  \n",
      "996        0     11    2007        WD         Normal     270000     1  \n",
      "997        0      7    2006        WD         Normal     200100     1  \n",
      "998        0     11    2006        WD        Abnorml     115000     0  \n",
      "999        0      4    2007        WD         Normal     143500     0  \n",
      "1000       0      1    2007        WD         Normal     755000     1  \n",
      "\n",
      "[1001 rows x 76 columns]\n",
      "   MSSubClass MSZoning  LotFrontage  LotArea Street LotShape LandContour  \\\n",
      "0          60       RL         82.0    11287   Pave      Reg         Lvl   \n",
      "1         120       RM          NaN     3072   Pave      Reg         Lvl   \n",
      "2          70       RH         54.0     6629   Pave      Reg         Lvl   \n",
      "3          50       RL         60.0     7200   Pave      Reg         Lvl   \n",
      "4          90       RL         63.0     9297   Pave      Reg         Lvl   \n",
      "\n",
      "  Utilities LotConfig LandSlope  ... 3SsnPorch ScreenPorch PoolArea MiscVal  \\\n",
      "0    AllPub    Inside       Gtl  ...       196           0        0       0   \n",
      "1    AllPub    Inside       Gtl  ...         0           0        0       0   \n",
      "2    AllPub    Inside       Gtl  ...         0           0        0       0   \n",
      "3    AllPub    Corner       Gtl  ...         0           0        0       0   \n",
      "4    AllPub    Inside       Gtl  ...         0           0        0       0   \n",
      "\n",
      "  MoSold  YrSold  SaleType  SaleCondition  SalePrice label  \n",
      "0      1    2007        WD         Normal     228500     1  \n",
      "1      5    2006        WD         Normal     178740     0  \n",
      "2      7    2009        WD         Normal     103600     0  \n",
      "3      6    2007        WD         Normal     175000     0  \n",
      "4      7    2006        WD         Family     188000     1  \n",
      "\n",
      "[5 rows x 76 columns]\n"
     ]
    }
   ],
   "source": [
    "print(train_df)\n",
    "print(test_df.head())"
   ]
  },
  {
   "cell_type": "markdown",
   "metadata": {
    "id": "C8QHild-ORFa"
   },
   "source": [
    "Delete dupplicates and fill empty cells"
   ]
  },
  {
   "cell_type": "code",
   "execution_count": 3,
   "metadata": {
    "colab": {
     "base_uri": "https://localhost:8080/"
    },
    "id": "-fNl6_2t5JTL",
    "outputId": "33af8efd-74df-4d44-8e31-4cdf1da5944f"
   },
   "outputs": [],
   "source": [
    "train_df.drop_duplicates(inplace= True)\n",
    "test_df.drop_duplicates(inplace= True)\n",
    "\n",
    "for column in train_df:\n",
    "  if(train_df[column].dtypes == np.int64 or train_df[column].dtypes == np.float64):\n",
    "    train_df[column] = train_df[column].fillna(train_df[column].median())\n",
    "  else:\n",
    "    train_df[column] = train_df[column].fillna(\"None\")\n",
    "\n",
    "for column in test_df:\n",
    "  if(test_df[column].dtypes == np.int64 or test_df[column].dtypes == np.float64):\n",
    "    test_df[column] = test_df[column].fillna(test_df[column].median())\n",
    "  else:\n",
    "    test_df[column] = test_df[column].fillna(\"None\")"
   ]
  },
  {
   "cell_type": "code",
   "execution_count": 4,
   "metadata": {
    "id": "ojjojKVQiZmo"
   },
   "outputs": [],
   "source": [
    "train_df_edit = train_df.iloc[:,:74]\n",
    "saleprice_df_edit = train_df.iloc[:,74:]\n",
    "test_df_edit = test_df.iloc[:,:74]\n",
    "combined_df = train_df_edit.append(test_df_edit)\n",
    "combined_df = pd.get_dummies(combined_df, drop_first= True)"
   ]
  },
  {
   "cell_type": "code",
   "execution_count": 5,
   "metadata": {
    "colab": {
     "base_uri": "https://localhost:8080/"
    },
    "id": "uBwFwV3KV8Ub",
    "outputId": "eddde846-7da7-4d31-e5ac-0782b6d28bbb"
   },
   "outputs": [],
   "source": [
    "new_train_df = combined_df[0:1000]\n",
    "new_test_df = combined_df[1000:1459]"
   ]
  },
  {
   "cell_type": "code",
   "execution_count": 6,
   "metadata": {
    "id": "RH73NXUTXNfS"
   },
   "outputs": [],
   "source": [
    "object= StandardScaler()\n",
    "scaling_factor = object.fit(new_train_df)\n",
    "new_train_df_norm = scaling_factor.transform(new_train_df)\n",
    "new_test_df_norm = scaling_factor.transform(new_test_df)\n",
    "# pd.DataFrame(new_train_df_norm, columns=new_train_df.columns).plot.box(figsize=(20,5), rot=90)\n",
    "# new_test_df_norm_df = pd.DataFrame(new_train_df_norm, columns= new_train_df.columns)\n",
    "# new_test_df_norm_df.to_excel('pa1test.xlsx')"
   ]
  },
  {
   "cell_type": "markdown",
   "metadata": {
    "id": "G4NLqVd6xrI2"
   },
   "source": [
    "Q2 Visualize the correlation between every two of the first 10 features with a 10*10 heatmap."
   ]
  },
  {
   "cell_type": "code",
   "execution_count": 7,
   "metadata": {
    "colab": {
     "base_uri": "https://localhost:8080/",
     "height": 351
    },
    "id": "-H9J4N5bxsTw",
    "outputId": "17d1c350-c38b-48d4-d4e4-f13028259423"
   },
   "outputs": [
    {
     "data": {
      "text/plain": [
       "<AxesSubplot:>"
      ]
     },
     "execution_count": 7,
     "metadata": {},
     "output_type": "execute_result"
    },
    {
     "data": {
      "image/png": "[encoded data removed]",
      "text/plain": [
       "<Figure size 432x288 with 2 Axes>"
      ]
     },
     "metadata": {
      "needs_background": "light"
     },
     "output_type": "display_data"
    }
   ],
   "source": [
    "import seaborn as sns\n",
    "\n",
    "q2_array = new_train_df_norm[:,:10]\n",
    "q2_df = pd.DataFrame(q2_array, columns= new_train_df.columns[:10])\n",
    "\n",
    "corr_matrix = q2_df.corr()\n",
    "sns.heatmap(corr_matrix)"
   ]
  },
  {
   "cell_type": "markdown",
   "metadata": {
    "id": "Tu2s-ijv4vYD"
   },
   "source": [
    "Q3 Use two different regression models to perform\n",
    "feature selection and calculate the corresponding R^2\n",
    "score."
   ]
  },
  {
   "cell_type": "code",
   "execution_count": 8,
   "metadata": {
    "id": "bNp1PDk8498c",
    "scrolled": false
   },
   "outputs": [
    {
     "name": "stdout",
     "output_type": "stream",
     "text": [
      "R^2 Score for Linear Regression:  -1.4657919531646333e+25\n",
      "R^2 Score for Lasso Regression:  0.885732504811358\n"
     ]
    },
    {
     "name": "stderr",
     "output_type": "stream",
     "text": [
      "C:\\Users\\Richie\\anaconda3\\lib\\site-packages\\sklearn\\linear_model\\_coordinate_descent.py:530: ConvergenceWarning: Objective did not converge. You might want to increase the number of iterations. Duality gap: 39897431479.35254, tolerance: 629598407.5635369\n",
      "  model = cd_fast.enet_coordinate_descent(\n"
     ]
    }
   ],
   "source": [
    "from sklearn.feature_selection import SelectFromModel\n",
    "from sklearn.linear_model import LinearRegression\n",
    "from sklearn import linear_model\n",
    "from sklearn.metrics import r2_score\n",
    "\n",
    "lr_train_df = pd.DataFrame(new_train_df_norm, columns= new_train_df.columns)\n",
    "lr_test_df = pd.DataFrame(new_test_df_norm, columns= new_test_df.columns)\n",
    "sales_train_df = saleprice_df_edit['SalePrice']\n",
    "log_sales_train_df = np.log(saleprice_df_edit['SalePrice'])\n",
    "\n",
    "selector = SelectFromModel(estimator=LinearRegression()).fit(lr_train_df, log_sales_train_df)\n",
    "selected_lr_train_df = selector.transform(lr_train_df)\n",
    "selected_lr_test_df = selector.transform(lr_test_df)\n",
    "\n",
    "lr_model = LinearRegression() \n",
    "lr_model.fit(selected_lr_train_df, sales_train_df)\n",
    "pred_sales_test = lr_model.predict(selected_lr_test_df)\n",
    "print(\"R^2 Score for Linear Regression: \",r2_score(test_df['SalePrice'], pred_sales_test))\n",
    "\n",
    "selector2 = SelectFromModel(estimator=linear_model.Lasso(alpha=0.005, random_state= 4211)).fit(lr_train_df, log_sales_train_df)\n",
    "selected_lr_train_df = selector2.transform(lr_train_df)\n",
    "selected_lr_test_df = selector2.transform(lr_test_df)\n",
    "\n",
    "lasso_model = linear_model.Lasso(alpha=0.005, random_state= 4211)\n",
    "lasso_model.fit(selected_lr_train_df, sales_train_df)\n",
    "pred_sales_test = lasso_model.predict(selected_lr_test_df)\n",
    "print(\"R^2 Score for Lasso Regression: \",r2_score(test_df['SalePrice'], pred_sales_test))"
   ]
  },
  {
   "cell_type": "markdown",
   "metadata": {},
   "source": [
    "Q4 "
   ]
  },
  {
   "cell_type": "code",
   "execution_count": 9,
   "metadata": {},
   "outputs": [
    {
     "name": "stdout",
     "output_type": "stream",
     "text": [
      "R^2 Score for Linear Regression Lot Area:  0.02053447599941216\n",
      "R^2 Score for Linear Regression Gr Liv Area:  0.3926843861046171\n",
      "R^2 Score for Linear Regression Overall Qual:  0.5869504375679953\n",
      "R^2 Score for Linear Regression Overall Cond:  0.017107462820201147\n"
     ]
    }
   ],
   "source": [
    "from sklearn.model_selection import train_test_split\n",
    "\n",
    "X_train, X_test, y_train, y_test = train_test_split(lr_train_df, sales_train_df, test_size=0.2, random_state=4211)\n",
    "lot_area = np.reshape(X_train['LotArea'].to_numpy(),(X_train.shape[0],1))\n",
    "gr_liv_area = np.reshape(X_train[\"GrLivArea\"].to_numpy(),(X_train.shape[0],1))\n",
    "overall_qual = np.reshape(X_train[\"OverallQual\"].to_numpy(),(X_train.shape[0],1))\n",
    "overall_cond = np.reshape(X_train[\"OverallCond\"].to_numpy(),(X_train.shape[0],1))\n",
    "\n",
    "lr_model1 = LinearRegression() \n",
    "lr_model1.fit(lot_area, y_train)\n",
    "pred_sales_test1 = lr_model1.predict(np.reshape(X_test['LotArea'].to_numpy(),(X_test.shape[0],1)))\n",
    "print(\"R^2 Score for Linear Regression Lot Area: \",r2_score(y_test, pred_sales_test1))\n",
    "\n",
    "lr_model2 = LinearRegression() \n",
    "lr_model2.fit(gr_liv_area, y_train)\n",
    "pred_sales_test2 = lr_model2.predict(np.reshape(X_test['GrLivArea'].to_numpy(),(X_test.shape[0],1)))\n",
    "print(\"R^2 Score for Linear Regression Gr Liv Area: \",r2_score(y_test, pred_sales_test2))\n",
    "\n",
    "lr_model3 = LinearRegression() \n",
    "lr_model3.fit(overall_qual, y_train)\n",
    "pred_sales_test3 = lr_model3.predict(np.reshape(X_test['OverallQual'].to_numpy(),(X_test.shape[0],1)))\n",
    "print(\"R^2 Score for Linear Regression Overall Qual: \",r2_score(y_test, pred_sales_test3))\n",
    "\n",
    "lr_model4 = LinearRegression() \n",
    "lr_model4.fit(overall_cond, y_train)\n",
    "pred_sales_test4 = lr_model4.predict(np.reshape(X_test['OverallCond'].to_numpy(),(X_test.shape[0],1)))\n",
    "print(\"R^2 Score for Linear Regression Overall Cond: \",r2_score(y_test, pred_sales_test4))\n"
   ]
  },
  {
   "cell_type": "markdown",
   "metadata": {},
   "source": [
    "Q5"
   ]
  },
  {
   "cell_type": "code",
   "execution_count": 10,
   "metadata": {},
   "outputs": [
    {
     "name": "stdout",
     "output_type": "stream",
     "text": [
      "R^2 Score for Linear Regression in Q3:  -1.972371183546213e+25\n"
     ]
    },
    {
     "data": {
      "image/png": "[encoded data removed]",
      "text/plain": [
       "<Figure size 432x288 with 1 Axes>"
      ]
     },
     "metadata": {
      "needs_background": "light"
     },
     "output_type": "display_data"
    },
    {
     "data": {
      "image/png": "[encoded data removed]",
      "text/plain": [
       "<Figure size 432x288 with 1 Axes>"
      ]
     },
     "metadata": {
      "needs_background": "light"
     },
     "output_type": "display_data"
    },
    {
     "data": {
      "image/png": "[encoded data removed]",
      "text/plain": [
       "<Figure size 432x288 with 1 Axes>"
      ]
     },
     "metadata": {
      "needs_background": "light"
     },
     "output_type": "display_data"
    },
    {
     "data": {
      "image/png": "[encoded data removed]",
      "text/plain": [
       "<Figure size 432x288 with 1 Axes>"
      ]
     },
     "metadata": {
      "needs_background": "light"
     },
     "output_type": "display_data"
    }
   ],
   "source": [
    "import matplotlib.pyplot as plt\n",
    "import time\n",
    "\n",
    "X_train2, X_test2, y_train2, y_test2 = train_test_split(selected_lr_train_df, sales_train_df, test_size=0.2, random_state=4211)\n",
    "start = time.time()\n",
    "lr_model5 = LinearRegression()\n",
    "lr_model5.fit(X_train2, y_train2)\n",
    "pred_sales_test5 = lr_model5.predict(X_test2)\n",
    "stop = time.time()\n",
    "print(\"R^2 Score for Linear Regression in Q3: \",r2_score(y_test2, pred_sales_test5))\n",
    "lr_time = stop-start\n",
    "lr_r2_score = r2_score(y_test2, pred_sales_test5)\n",
    "\n",
    "plt.title(\"SalesPrice vs LotArea\")\n",
    "plt.scatter(X_test['LotArea'], y_test)\n",
    "plt.plot(X_test['LotArea'], pred_sales_test1, color='red')\n",
    "plt.show()\n",
    "\n",
    "plt.title(\"SalesPrice vs GrLivArea\")\n",
    "plt.scatter(X_test['GrLivArea'], y_test)\n",
    "plt.plot(X_test['GrLivArea'], pred_sales_test2, color='red')\n",
    "plt.show()\n",
    "\n",
    "plt.title(\"SalesPrice vs OverallQual\")\n",
    "plt.scatter(X_test['OverallQual'], y_test)\n",
    "plt.plot(X_test['OverallQual'], pred_sales_test3, color='red')\n",
    "plt.show()\n",
    "\n",
    "plt.title(\"SalesPrice vs OverallCond\")\n",
    "plt.scatter(X_test['OverallCond'], y_test)\n",
    "plt.plot(X_test['OverallCond'], pred_sales_test4, color='red')\n",
    "plt.show()"
   ]
  },
  {
   "cell_type": "markdown",
   "metadata": {},
   "source": [
    "Q6"
   ]
  },
  {
   "cell_type": "code",
   "execution_count": 11,
   "metadata": {},
   "outputs": [
    {
     "name": "stdout",
     "output_type": "stream",
     "text": [
      "R^2 Score for Feed Forward Network (H = 1 random_state= 12 ):  -5.2266038743207\n",
      "Training time:  0.04612088203430176 s\n",
      "R^2 Score for Feed Forward Network (H = 1 random_state= 102 ):  -5.226595903059875\n",
      "Training time:  0.046022653579711914 s\n",
      "R^2 Score for Feed Forward Network (H = 1 random_state= 3006 ):  -5.226473283347459\n",
      "Training time:  0.044020652770996094 s\n",
      "Mean Training Time:  0.04538806279500326\n",
      "STD Training Time:  0.0009677361340225019\n",
      "Mean R^2 Score:  -5.226557686909345\n",
      "STD R^2 Score:  5.9770986239538704e-05\n",
      "\n",
      "R^2 Score for Feed Forward Network (H = 2 random_state= 12 ):  -5.2265352964441725\n",
      "Training time:  0.06801366806030273 s\n",
      "R^2 Score for Feed Forward Network (H = 2 random_state= 102 ):  -5.226459418432854\n",
      "Training time:  0.0620119571685791 s\n",
      "R^2 Score for Feed Forward Network (H = 2 random_state= 3006 ):  -5.226507976633178\n",
      "Training time:  0.06501460075378418 s\n",
      "Mean Training Time:  0.06501340866088867\n",
      "STD Training Time:  0.0024501883564020982\n",
      "Mean R^2 Score:  -5.226500897170068\n",
      "STD R^2 Score:  3.137894462700218e-05\n",
      "\n",
      "R^2 Score for Feed Forward Network (H = 4 random_state= 12 ):  -5.226643805047769\n",
      "Training time:  0.07401776313781738 s\n",
      "R^2 Score for Feed Forward Network (H = 4 random_state= 102 ):  -5.226418931812468\n",
      "Training time:  0.062015533447265625 s\n",
      "R^2 Score for Feed Forward Network (H = 4 random_state= 3006 ):  -5.226496923995242\n",
      "Training time:  0.06501412391662598 s\n",
      "Mean Training Time:  0.067015806833903\n",
      "STD Training Time:  0.005100224195214658\n",
      "Mean R^2 Score:  -5.226519886951826\n",
      "STD R^2 Score:  9.32289869801648e-05\n",
      "\n",
      "R^2 Score for Feed Forward Network (H = 8 random_state= 12 ):  -5.226521054881458\n",
      "Training time:  0.06901383399963379 s\n",
      "R^2 Score for Feed Forward Network (H = 8 random_state= 102 ):  -5.226163285101222\n",
      "Training time:  0.06701540946960449 s\n",
      "R^2 Score for Feed Forward Network (H = 8 random_state= 3006 ):  -5.22642951074493\n",
      "Training time:  0.07601666450500488 s\n",
      "Mean Training Time:  0.07068196932474773\n",
      "STD Training Time:  0.003859417456063367\n",
      "Mean R^2 Score:  -5.22637128357587\n",
      "STD R^2 Score:  0.00015175112591560075\n",
      "\n",
      "R^2 Score for Feed Forward Network (H = 16 random_state= 12 ):  -5.226309225671451\n",
      "Training time:  0.0910191535949707 s\n",
      "R^2 Score for Feed Forward Network (H = 16 random_state= 102 ):  -5.2262507015434565\n",
      "Training time:  0.08302044868469238 s\n",
      "R^2 Score for Feed Forward Network (H = 16 random_state= 3006 ):  -5.226404443389288\n",
      "Training time:  0.09301900863647461 s\n",
      "Mean Training Time:  0.0890195369720459\n",
      "STD Training Time:  0.00431984955419775\n",
      "Mean R^2 Score:  -5.226321456868065\n",
      "STD R^2 Score:  6.335792724852346e-05\n",
      "\n",
      "R^2 Score for Feed Forward Network (H = 32 random_state= 12 ):  0.6396803827462656\n",
      "Training time:  2.658602714538574 s\n",
      "R^2 Score for Feed Forward Network (H = 32 random_state= 102 ):  0.6168047946637064\n",
      "Training time:  3.1237120628356934 s\n",
      "R^2 Score for Feed Forward Network (H = 32 random_state= 3006 ):  0.6591016466801733\n",
      "Training time:  2.6535983085632324 s\n",
      "Mean Training Time:  2.8119710286458335\n",
      "STD Training Time:  0.2204436667542891\n",
      "Mean R^2 Score:  0.6385289413633818\n",
      "STD R^2 Score:  0.017286802009421114\n",
      "\n",
      "R^2 Score for Feed Forward Network (H = 64 random_state= 12 ):  0.5801764533093501\n",
      "Training time:  0.4370992183685303 s\n",
      "R^2 Score for Feed Forward Network (H = 64 random_state= 102 ):  0.641017638684608\n",
      "Training time:  2.5995898246765137 s\n",
      "R^2 Score for Feed Forward Network (H = 64 random_state= 3006 ):  0.6103726811810233\n",
      "Training time:  0.6711537837982178 s\n",
      "Mean Training Time:  1.235947608947754\n",
      "STD Training Time:  0.9689635198801694\n",
      "Mean R^2 Score:  0.6105222577249938\n",
      "STD R^2 Score:  0.02483853510607399\n",
      "\n",
      "R^2 Score for Feed Forward Network (H = 128 random_state= 12 ):  0.7039979712049755\n",
      "Training time:  1.169266700744629 s\n",
      "R^2 Score for Feed Forward Network (H = 128 random_state= 102 ):  0.7123999945414186\n",
      "Training time:  0.9482121467590332 s\n",
      "R^2 Score for Feed Forward Network (H = 128 random_state= 3006 ):  0.707028375190333\n",
      "Training time:  0.8091855049133301 s\n",
      "Mean Training Time:  0.9755547841389974\n",
      "STD Training Time:  0.1482685216355643\n",
      "Mean R^2 Score:  0.7078087803122424\n",
      "STD R^2 Score:  0.0034742167608695193\n",
      "\n"
     ]
    }
   ],
   "source": [
    "from sklearn.neural_network import MLPRegressor\n",
    "import time\n",
    "\n",
    "hidden_layer_unit = [1,2,4,8,16,32,64,128]\n",
    "random_state = [12, 102, 3006]\n",
    "X_train, X_test, y_train, y_test = train_test_split(selected_lr_train_df, sales_train_df, test_size=0.2, random_state=4211)\n",
    "\n",
    "for i in hidden_layer_unit:\n",
    "    total_time = []\n",
    "    total_score = []\n",
    "    for j in random_state:\n",
    "        start = time.time()\n",
    "        regr = MLPRegressor(hidden_layer_sizes=(i,i,i,i,i,i), max_iter= 500, early_stopping= True, random_state= j).fit(X_train, y_train)\n",
    "        feed_predict = regr.predict(X_test)\n",
    "        stop = time.time()\n",
    "        r_score = r2_score(y_test, feed_predict)\n",
    "        print(\"R^2 Score for Feed Forward Network (H =\", i,\"random_state=\", j,\"): \",r_score)\n",
    "        print(\"Training time: \",stop-start,\"s\")\n",
    "        total_time.append(stop-start)\n",
    "        total_score.append(r_score)\n",
    "    print(\"Mean Training Time: \",np.mean(total_time))\n",
    "    print(\"STD Training Time: \",np.std(total_time))\n",
    "    print(\"Mean R^2 Score: \",np.mean(total_score))\n",
    "    print(\"STD R^2 Score: \",np.std(total_score))\n",
    "    print(\"\")"
   ]
  },
  {
   "cell_type": "markdown",
   "metadata": {},
   "source": [
    "Q7"
   ]
  },
  {
   "cell_type": "code",
   "execution_count": 12,
   "metadata": {},
   "outputs": [
    {
     "name": "stdout",
     "output_type": "stream",
     "text": [
      "Linear Regression Time:  0.004001140594482422\n",
      "Linear Regression in R^2 Score:  -1.972371183546213e+25\n",
      "\n",
      "R^2 Score for Feed Forward Network (H = 128 ): 0.7078087803122424\n",
      "Mean Training Time:  0.6908837954203287\n"
     ]
    }
   ],
   "source": [
    "print(\"Linear Regression Time: \",lr_time)\n",
    "print(\"Linear Regression in R^2 Score: \",lr_r2_score)\n",
    "print(\"\")\n",
    "print(\"R^2 Score for Feed Forward Network (H = 128 ): 0.7078087803122424\")\n",
    "print(\"Mean Training Time:  0.6908837954203287\")"
   ]
  },
  {
   "cell_type": "markdown",
   "metadata": {},
   "source": [
    "Q8 in report"
   ]
  },
  {
   "cell_type": "markdown",
   "metadata": {},
   "source": [
    "Q9"
   ]
  },
  {
   "cell_type": "code",
   "execution_count": 13,
   "metadata": {},
   "outputs": [
    {
     "name": "stdout",
     "output_type": "stream",
     "text": [
      "Random State:  600\n",
      "F1 Score:  0.9101796407185629\n",
      "Accuracy:  0.925\n",
      "Training time:  0.009001970291137695 s\n",
      "\n",
      "Random State:  850\n",
      "F1 Score:  0.8846153846153847\n",
      "Accuracy:  0.91\n",
      "Training time:  0.005001068115234375 s\n",
      "\n",
      "Random State:  1500\n",
      "F1 Score:  0.8917197452229298\n",
      "Accuracy:  0.915\n",
      "Training time:  0.007001638412475586 s\n",
      "\n",
      "Mean of F1 Score:  0.895504923518959\n",
      "STD of F1 Score:  0.0107743051926569\n",
      "Mean of Accuracy:  0.9166666666666666\n",
      "STD of Accuracy:  0.006236095644623242\n",
      "Mean of Training time:  0.007001558939615886\n",
      "STD of Training time:  0.0016333614745923882\n"
     ]
    }
   ],
   "source": [
    "from sklearn.linear_model import SGDClassifier\n",
    "from sklearn.preprocessing import StandardScaler\n",
    "from sklearn.pipeline import make_pipeline\n",
    "from sklearn.metrics import f1_score\n",
    "from sklearn.metrics import accuracy_score\n",
    "\n",
    "random_state = [600, 850, 1500]\n",
    "total_time=[]\n",
    "total_f1=[]\n",
    "total_acc=[]\n",
    "label_train_df = saleprice_df_edit['label']\n",
    "X_train, X_test, y_train, y_test = train_test_split(selected_lr_train_df, label_train_df, test_size=0.2, random_state=4211)\n",
    "\n",
    "for i in random_state:\n",
    "    start = time.time()\n",
    "    clf_model = make_pipeline(StandardScaler(), SGDClassifier(loss=\"log\", random_state= i, learning_rate=\"constant\", eta0= 0.5))\n",
    "    clf_model.fit(X_train, y_train)\n",
    "    predict_clf_label = clf_model.predict(X_test)\n",
    "    stop = time.time()\n",
    "    total_time.append(stop-start)\n",
    "    total_f1.append(f1_score(y_test, predict_clf_label))\n",
    "    total_acc.append(accuracy_score(y_test, predict_clf_label))\n",
    "    \n",
    "    print(\"Random State: \", i)\n",
    "    print(\"F1 Score: \",f1_score(y_test, predict_clf_label))\n",
    "    print(\"Accuracy: \",accuracy_score(y_test, predict_clf_label))\n",
    "    print(\"Training time: \",stop-start,\"s\")\n",
    "    print(\"\")\n",
    "\n",
    "print(\"Mean of F1 Score: \", np.mean(total_f1))\n",
    "print(\"STD of F1 Score: \", np.std(total_f1))\n",
    "print(\"Mean of Accuracy: \", np.mean(total_acc))\n",
    "print(\"STD of Accuracy: \", np.std(total_acc))\n",
    "print(\"Mean of Training time: \", np.mean(total_time))\n",
    "print(\"STD of Training time: \", np.std(total_time))"
   ]
  },
  {
   "cell_type": "markdown",
   "metadata": {},
   "source": [
    "Q10"
   ]
  },
  {
   "cell_type": "code",
   "execution_count": 14,
   "metadata": {},
   "outputs": [
    {
     "name": "stdout",
     "output_type": "stream",
     "text": [
      "True Negative: 113, False Positive: 7, False Negative: 10, True Positive: 70\n"
     ]
    },
    {
     "data": {
      "text/plain": [
       "<AxesSubplot:>"
      ]
     },
     "execution_count": 14,
     "metadata": {},
     "output_type": "execute_result"
    },
    {
     "data": {
      "image/png": "[encoded data removed]",
      "text/plain": [
       "<Figure size 432x288 with 2 Axes>"
      ]
     },
     "metadata": {
      "needs_background": "light"
     },
     "output_type": "display_data"
    }
   ],
   "source": [
    "from sklearn.metrics import confusion_matrix\n",
    "\n",
    "tn, fp, fn, tp = confusion_matrix(y_test, predict_clf_label).ravel()\n",
    "conf_matrix = confusion_matrix(y_test, predict_clf_label)\n",
    "print(f\"True Negative: {tn}, False Positive: {fp}, False Negative: {fn}, True Positive: {tp}\")\n",
    "sns.heatmap(conf_matrix)"
   ]
  },
  {
   "cell_type": "markdown",
   "metadata": {},
   "source": [
    "Q11"
   ]
  },
  {
   "cell_type": "code",
   "execution_count": 15,
   "metadata": {},
   "outputs": [
    {
     "name": "stdout",
     "output_type": "stream",
     "text": [
      "F1 Score      for H=  1 Random =, 600  :  0.0\n",
      "Accuracy      for H=  1 Random =, 600  :  0.6\n",
      "Training time for H=  1 Random =, 600  :  0.02800917625427246 s\n",
      "F1 Score      for H=  1 Random =, 850  :  0.0\n",
      "Accuracy      for H=  1 Random =, 850  :  0.6\n",
      "Training time for H=  1 Random =, 850  :  0.027015209197998047 s\n",
      "F1 Score      for H=  1 Random =, 1500  :  0.0\n",
      "Accuracy      for H=  1 Random =, 1500  :  0.6\n",
      "Training time for H=  1 Random =, 1500  :  0.0279238224029541 s\n",
      "\n",
      "Mean of F1 Score      for H=  1  :  0.0\n",
      "STD  of F1 Score      for H=  1  :  0.0\n",
      "Mean of Accuracy      for H=  1  :  0.6\n",
      "STD  of Accuracy      for H=  1  :  0.0\n",
      "Mean of Training time for H=  1  :  0.027649402618408203\n",
      "STD  of Training time for H=  1  :  0.00044979424248009893\n",
      "\n",
      "F1 Score      for H=  2 Random =, 600  :  0.0\n",
      "Accuracy      for H=  2 Random =, 600  :  0.6\n",
      "Training time for H=  2 Random =, 600  :  0.03400683403015137 s\n",
      "F1 Score      for H=  2 Random =, 850  :  0.7958115183246074\n",
      "Accuracy      for H=  2 Random =, 850  :  0.805\n",
      "Training time for H=  2 Random =, 850  :  0.16403698921203613 s\n",
      "F1 Score      for H=  2 Random =, 1500  :  0.5714285714285715\n",
      "Accuracy      for H=  2 Random =, 1500  :  0.4\n",
      "Training time for H=  2 Random =, 1500  :  0.034008026123046875 s\n",
      "\n",
      "Mean of F1 Score      for H=  2  :  0.455746696584393\n",
      "STD  of F1 Score      for H=  2  :  0.33502807374917837\n",
      "Mean of Accuracy      for H=  2  :  0.6016666666666667\n",
      "STD  of Accuracy      for H=  2  :  0.1653447576698121\n",
      "Mean of Training time for H=  2  :  0.07735061645507812\n",
      "STD  of Training time for H=  2  :  0.06129652201484178\n",
      "\n",
      "F1 Score      for H=  4 Random =, 600  :  0.7432432432432432\n",
      "Accuracy      for H=  4 Random =, 600  :  0.81\n",
      "Training time for H=  4 Random =, 600  :  0.11702561378479004 s\n",
      "F1 Score      for H=  4 Random =, 850  :  0.8301886792452831\n",
      "Accuracy      for H=  4 Random =, 850  :  0.865\n",
      "Training time for H=  4 Random =, 850  :  0.16403746604919434 s\n",
      "F1 Score      for H=  4 Random =, 1500  :  0.0\n",
      "Accuracy      for H=  4 Random =, 1500  :  0.595\n",
      "Training time for H=  4 Random =, 1500  :  0.04100918769836426 s\n",
      "\n",
      "Mean of F1 Score      for H=  4  :  0.5244773074961754\n",
      "STD  of F1 Score      for H=  4  :  0.37255622552774903\n",
      "Mean of Accuracy      for H=  4  :  0.7566666666666667\n",
      "STD  of Accuracy      for H=  4  :  0.11649988078200864\n",
      "Mean of Training time for H=  4  :  0.10735742251078288\n",
      "STD  of Training time for H=  4  :  0.0506892148974212\n",
      "\n",
      "F1 Score      for H=  8 Random =, 600  :  0.8402366863905325\n",
      "Accuracy      for H=  8 Random =, 600  :  0.865\n",
      "Training time for H=  8 Random =, 600  :  0.10602426528930664 s\n",
      "F1 Score      for H=  8 Random =, 850  :  0.8625\n",
      "Accuracy      for H=  8 Random =, 850  :  0.89\n",
      "Training time for H=  8 Random =, 850  :  0.15903687477111816 s\n",
      "F1 Score      for H=  8 Random =, 1500  :  0.8641975308641976\n",
      "Accuracy      for H=  8 Random =, 1500  :  0.89\n",
      "Training time for H=  8 Random =, 1500  :  0.09302043914794922 s\n",
      "\n",
      "Mean of F1 Score      for H=  8  :  0.8556447390849101\n",
      "STD  of F1 Score      for H=  8  :  0.010917156792048684\n",
      "Mean of Accuracy      for H=  8  :  0.8816666666666667\n",
      "STD  of Accuracy      for H=  8  :  0.011785113019775804\n",
      "Mean of Training time for H=  8  :  0.11936052640279134\n",
      "STD  of Training time for H=  8  :  0.028553275801120562\n",
      "\n",
      "F1 Score      for H=  16 Random =, 600  :  0.8701298701298702\n",
      "Accuracy      for H=  16 Random =, 600  :  0.9\n",
      "Training time for H=  16 Random =, 600  :  0.136030912399292 s\n",
      "F1 Score      for H=  16 Random =, 850  :  0.8658536585365854\n",
      "Accuracy      for H=  16 Random =, 850  :  0.89\n",
      "Training time for H=  16 Random =, 850  :  0.14303278923034668 s\n",
      "F1 Score      for H=  16 Random =, 1500  :  0.8414634146341463\n",
      "Accuracy      for H=  16 Random =, 1500  :  0.87\n",
      "Training time for H=  16 Random =, 1500  :  0.11902689933776855 s\n",
      "\n",
      "Mean of F1 Score      for H=  16  :  0.8591489811002005\n",
      "STD  of F1 Score      for H=  16  :  0.012626848176710727\n",
      "Mean of Accuracy      for H=  16  :  0.8866666666666667\n",
      "STD  of Accuracy      for H=  16  :  0.012472191289246483\n",
      "Mean of Training time for H=  16  :  0.13269686698913574\n",
      "STD  of Training time for H=  16  :  0.01007993324982476\n",
      "\n",
      "F1 Score      for H=  32 Random =, 600  :  0.9068322981366459\n",
      "Accuracy      for H=  32 Random =, 600  :  0.925\n",
      "Training time for H=  32 Random =, 600  :  0.1720418930053711 s\n",
      "F1 Score      for H=  32 Random =, 850  :  0.888888888888889\n",
      "Accuracy      for H=  32 Random =, 850  :  0.91\n",
      "Training time for H=  32 Random =, 850  :  0.11602020263671875 s\n",
      "F1 Score      for H=  32 Random =, 1500  :  0.8333333333333334\n",
      "Accuracy      for H=  32 Random =, 1500  :  0.87\n",
      "Training time for H=  32 Random =, 1500  :  0.08601760864257812 s\n",
      "\n",
      "Mean of F1 Score      for H=  32  :  0.8763515067862895\n",
      "STD  of F1 Score      for H=  32  :  0.03128805863029942\n",
      "Mean of Accuracy      for H=  32  :  0.9016666666666667\n",
      "STD  of Accuracy      for H=  32  :  0.023213980461973552\n",
      "Mean of Training time for H=  32  :  0.12469323476155598\n",
      "STD  of Training time for H=  32  :  0.03565071752163866\n",
      "\n",
      "F1 Score      for H=  64 Random =, 600  :  0.8848484848484848\n",
      "Accuracy      for H=  64 Random =, 600  :  0.905\n",
      "Training time for H=  64 Random =, 600  :  0.17904019355773926 s\n",
      "F1 Score      for H=  64 Random =, 850  :  0.9056603773584907\n",
      "Accuracy      for H=  64 Random =, 850  :  0.925\n",
      "Training time for H=  64 Random =, 850  :  0.19404363632202148 s\n",
      "F1 Score      for H=  64 Random =, 1500  :  0.8974358974358975\n",
      "Accuracy      for H=  64 Random =, 1500  :  0.92\n",
      "Training time for H=  64 Random =, 1500  :  0.16704106330871582 s\n",
      "\n",
      "Mean of F1 Score      for H=  64  :  0.8959815865476243\n",
      "STD  of F1 Score      for H=  64  :  0.008558425968281106\n",
      "Mean of Accuracy      for H=  64  :  0.9166666666666666\n",
      "STD  of Accuracy      for H=  64  :  0.008498365855987983\n",
      "Mean of Training time for H=  64  :  0.18004163106282553\n",
      "STD  of Training time for H=  64  :  0.011046474404145752\n",
      "\n",
      "F1 Score      for H=  128 Random =, 600  :  0.8944099378881988\n",
      "Accuracy      for H=  128 Random =, 600  :  0.915\n",
      "Training time for H=  128 Random =, 600  :  0.21304535865783691 s\n",
      "F1 Score      for H=  128 Random =, 850  :  0.9146341463414636\n",
      "Accuracy      for H=  128 Random =, 850  :  0.93\n",
      "Training time for H=  128 Random =, 850  :  0.2610592842102051 s\n",
      "F1 Score      for H=  128 Random =, 1500  :  0.9113924050632911\n",
      "Accuracy      for H=  128 Random =, 1500  :  0.93\n",
      "Training time for H=  128 Random =, 1500  :  0.35309290885925293 s\n",
      "\n",
      "Mean of F1 Score      for H=  128  :  0.9068121630976512\n",
      "STD  of F1 Score      for H=  128  :  0.008868995216976712\n",
      "Mean of Accuracy      for H=  128  :  0.9250000000000002\n",
      "STD  of Accuracy      for H=  128  :  0.007071067811865481\n",
      "Mean of Training time for H=  128  :  0.27573251724243164\n",
      "STD  of Training time for H=  128  :  0.05810798513726005\n",
      "\n"
     ]
    }
   ],
   "source": [
    "from sklearn.neural_network import MLPClassifier\n",
    "\n",
    "random_state = [600, 850, 1500]\n",
    "mean_score=[]\n",
    "mean_accuracy=[]\n",
    "for i in hidden_layer_unit:\n",
    "    total_time=[]\n",
    "    total_score=[]\n",
    "    total_acc=[]\n",
    "    for j in random_state:\n",
    "        start = time.time()\n",
    "        clfnn_model = MLPClassifier(hidden_layer_sizes=(i,i,i), max_iter= 500, early_stopping= True, random_state= j).fit(X_train, y_train)\n",
    "        nn_predict = clfnn_model.predict(X_test)\n",
    "        stop = time.time()\n",
    "        total_time.append(stop-start)\n",
    "        total_score.append(f1_score(y_test, nn_predict))\n",
    "        total_acc.append(accuracy_score(y_test, nn_predict))\n",
    "        print(\"F1 Score      for H= \",i,\"Random =,\",j,\" : \", f1_score(y_test, nn_predict))\n",
    "        print(\"Accuracy      for H= \",i,\"Random =,\",j,\" : \", accuracy_score(y_test, nn_predict))\n",
    "        print(\"Training time for H= \",i,\"Random =,\",j,\" : \", stop-start,\"s\")\n",
    "    mean_score.append(np.mean(total_score))\n",
    "    mean_accuracy.append(np.mean(total_acc))\n",
    "    print(\"\")\n",
    "    print(\"Mean of F1 Score      for H= \",i,\" : \",np.mean(total_score))\n",
    "    print(\"STD  of F1 Score      for H= \",i,\" : \",np.std(total_score))\n",
    "    print(\"Mean of Accuracy      for H= \",i,\" : \",np.mean(total_acc))\n",
    "    print(\"STD  of Accuracy      for H= \",i,\" : \",np.std(total_acc))\n",
    "    print(\"Mean of Training time for H= \",i,\" : \",np.mean(total_time))\n",
    "    print(\"STD  of Training time for H= \",i,\" : \",np.std(total_time))\n",
    "    print(\"\")"
   ]
  },
  {
   "cell_type": "markdown",
   "metadata": {},
   "source": [
    "Q12"
   ]
  },
  {
   "cell_type": "code",
   "execution_count": 16,
   "metadata": {},
   "outputs": [
    {
     "data": {
      "image/png": "[encoded data removed]",
      "text/plain": [
       "<Figure size 432x288 with 1 Axes>"
      ]
     },
     "metadata": {
      "needs_background": "light"
     },
     "output_type": "display_data"
    },
    {
     "data": {
      "image/png": "[encoded data removed]",
      "text/plain": [
       "<Figure size 432x288 with 1 Axes>"
      ]
     },
     "metadata": {
      "needs_background": "light"
     },
     "output_type": "display_data"
    }
   ],
   "source": [
    "x = np.arange(1, 9)\n",
    "plt.title(\"F1 Score over H\")\n",
    "plt.ylabel(\"F1 Score\")\n",
    "plt.plot(x, mean_score, color =\"red\")\n",
    "plt.show()\n",
    "\n",
    "plt.title(\"Accuracy over H\")\n",
    "plt.ylabel(\"Accuracy\")\n",
    "plt.plot(x, mean_accuracy, color =\"red\")\n",
    "plt.show()"
   ]
  },
  {
   "cell_type": "markdown",
   "metadata": {},
   "source": [
    "Q13"
   ]
  },
  {
   "cell_type": "code",
   "execution_count": 17,
   "metadata": {},
   "outputs": [
    {
     "name": "stdout",
     "output_type": "stream",
     "text": [
      "Best NN Model F1 Score:  0.9068121630976512\n",
      "Best NN Model Accuracy:  0.9250000000000002\n",
      "Logistic Regression F1 Score : 0.895504923518959\n",
      "Logistic Regression Accuracy : 0.9166666666666666\n"
     ]
    }
   ],
   "source": [
    "print(\"Best NN Model F1 Score: \", mean_score[7])\n",
    "print(\"Best NN Model Accuracy: \", mean_accuracy[7])\n",
    "print(\"Logistic Regression F1 Score : 0.895504923518959\")\n",
    "print(\"Logistic Regression Accuracy : 0.9166666666666666\")"
   ]
  },
  {
   "cell_type": "markdown",
   "metadata": {},
   "source": [
    "Q14 in Report"
   ]
  },
  {
   "cell_type": "markdown",
   "metadata": {},
   "source": [
    "Q15"
   ]
  },
  {
   "cell_type": "code",
   "execution_count": 18,
   "metadata": {},
   "outputs": [
    {
     "name": "stdout",
     "output_type": "stream",
     "text": [
      "    mean_fit_time  std_fit_time  mean_score_time  std_score_time param_alpha  \\\n",
      "0        0.086820      0.008799         0.000601    4.904465e-04      0.0001   \n",
      "1        0.062213      0.008731         0.000401    4.906226e-04      0.0001   \n",
      "2        0.063014      0.012085         0.000600    4.901350e-04      0.0001   \n",
      "3        0.129229      0.013123         0.001001    9.368364e-07      0.0001   \n",
      "4        0.090221      0.025955         0.000600    4.897071e-04      0.0001   \n",
      "5        0.102624      0.015098         0.000600    4.895512e-04      0.0001   \n",
      "6        0.181442      0.037526         0.001000    6.468134e-07      0.0001   \n",
      "7        0.142032      0.029813         0.001000    5.519789e-07      0.0001   \n",
      "8        0.184443      0.038369         0.001000    4.623108e-07      0.0001   \n",
      "9        0.337078      0.035919         0.002000    1.326602e-06      0.0001   \n",
      "10       0.305870      0.052644         0.001600    4.900573e-04      0.0001   \n",
      "11       0.385288      0.107688         0.001400    4.900772e-04      0.0001   \n",
      "12       0.083619      0.007089         0.000400    4.898625e-04         0.1   \n",
      "13       0.061614      0.007202         0.000800    4.001618e-04         0.1   \n",
      "14       0.058213      0.009603         0.000400    4.899792e-04         0.1   \n",
      "15       0.131830      0.020415         0.001000    3.234067e-07         0.1   \n",
      "16       0.091621      0.024407         0.000600    4.897846e-04         0.1   \n",
      "17       0.090421      0.025055         0.000400    4.900960e-04         0.1   \n",
      "18       0.185243      0.035257         0.001000    3.873843e-07         0.1   \n",
      "19       0.162037      0.055392         0.000801    4.003544e-04         0.1   \n",
      "20       0.159637      0.031514         0.000999    6.641573e-07         0.1   \n",
      "21       0.324074      0.042469         0.002000    6.325960e-07         0.1   \n",
      "22       0.290666      0.027073         0.002201    3.996851e-04         0.1   \n",
      "23       0.393890      0.028561         0.001800    4.011872e-04         0.1   \n",
      "\n",
      "   param_early_stopping param_hidden_layer_sizes param_learning_rate_init  \\\n",
      "0                  True             (32, 32, 32)                    0.001   \n",
      "1                  True             (32, 32, 32)                     0.01   \n",
      "2                  True             (32, 32, 32)                      0.1   \n",
      "3                  True             (64, 64, 64)                    0.001   \n",
      "4                  True             (64, 64, 64)                     0.01   \n",
      "5                  True             (64, 64, 64)                      0.1   \n",
      "6                  True          (128, 128, 128)                    0.001   \n",
      "7                  True          (128, 128, 128)                     0.01   \n",
      "8                  True          (128, 128, 128)                      0.1   \n",
      "9                  True          (256, 256, 256)                    0.001   \n",
      "10                 True          (256, 256, 256)                     0.01   \n",
      "11                 True          (256, 256, 256)                      0.1   \n",
      "12                 True             (32, 32, 32)                    0.001   \n",
      "13                 True             (32, 32, 32)                     0.01   \n",
      "14                 True             (32, 32, 32)                      0.1   \n",
      "15                 True             (64, 64, 64)                    0.001   \n",
      "16                 True             (64, 64, 64)                     0.01   \n",
      "17                 True             (64, 64, 64)                      0.1   \n",
      "18                 True          (128, 128, 128)                    0.001   \n",
      "19                 True          (128, 128, 128)                     0.01   \n",
      "20                 True          (128, 128, 128)                      0.1   \n",
      "21                 True          (256, 256, 256)                    0.001   \n",
      "22                 True          (256, 256, 256)                     0.01   \n",
      "23                 True          (256, 256, 256)                      0.1   \n",
      "\n",
      "   param_max_iter param_random_state  \\\n",
      "0             500               4211   \n",
      "1             500               4211   \n",
      "2             500               4211   \n",
      "3             500               4211   \n",
      "4             500               4211   \n",
      "5             500               4211   \n",
      "6             500               4211   \n",
      "7             500               4211   \n",
      "8             500               4211   \n",
      "9             500               4211   \n",
      "10            500               4211   \n",
      "11            500               4211   \n",
      "12            500               4211   \n",
      "13            500               4211   \n",
      "14            500               4211   \n",
      "15            500               4211   \n",
      "16            500               4211   \n",
      "17            500               4211   \n",
      "18            500               4211   \n",
      "19            500               4211   \n",
      "20            500               4211   \n",
      "21            500               4211   \n",
      "22            500               4211   \n",
      "23            500               4211   \n",
      "\n",
      "                                               params  split0_test_score  \\\n",
      "0   {'alpha': 0.0001, 'early_stopping': True, 'hid...            0.92500   \n",
      "1   {'alpha': 0.0001, 'early_stopping': True, 'hid...            0.92500   \n",
      "2   {'alpha': 0.0001, 'early_stopping': True, 'hid...            0.94375   \n",
      "3   {'alpha': 0.0001, 'early_stopping': True, 'hid...            0.88750   \n",
      "4   {'alpha': 0.0001, 'early_stopping': True, 'hid...            0.92500   \n",
      "5   {'alpha': 0.0001, 'early_stopping': True, 'hid...            0.93125   \n",
      "6   {'alpha': 0.0001, 'early_stopping': True, 'hid...            0.88125   \n",
      "7   {'alpha': 0.0001, 'early_stopping': True, 'hid...            0.93125   \n",
      "8   {'alpha': 0.0001, 'early_stopping': True, 'hid...            0.93750   \n",
      "9   {'alpha': 0.0001, 'early_stopping': True, 'hid...            0.91250   \n",
      "10  {'alpha': 0.0001, 'early_stopping': True, 'hid...            0.93750   \n",
      "11  {'alpha': 0.0001, 'early_stopping': True, 'hid...            0.91250   \n",
      "12  {'alpha': 0.1, 'early_stopping': True, 'hidden...            0.92500   \n",
      "13  {'alpha': 0.1, 'early_stopping': True, 'hidden...            0.91875   \n",
      "14  {'alpha': 0.1, 'early_stopping': True, 'hidden...            0.93125   \n",
      "15  {'alpha': 0.1, 'early_stopping': True, 'hidden...            0.88750   \n",
      "16  {'alpha': 0.1, 'early_stopping': True, 'hidden...            0.92500   \n",
      "17  {'alpha': 0.1, 'early_stopping': True, 'hidden...            0.90000   \n",
      "18  {'alpha': 0.1, 'early_stopping': True, 'hidden...            0.88125   \n",
      "19  {'alpha': 0.1, 'early_stopping': True, 'hidden...            0.93750   \n",
      "20  {'alpha': 0.1, 'early_stopping': True, 'hidden...            0.93125   \n",
      "21  {'alpha': 0.1, 'early_stopping': True, 'hidden...            0.91250   \n",
      "22  {'alpha': 0.1, 'early_stopping': True, 'hidden...            0.93125   \n",
      "23  {'alpha': 0.1, 'early_stopping': True, 'hidden...            0.87500   \n",
      "\n",
      "    split1_test_score  split2_test_score  split3_test_score  \\\n",
      "0             0.91875            0.82500            0.88750   \n",
      "1             0.94375            0.89375            0.93750   \n",
      "2             0.92500            0.87500            0.92500   \n",
      "3             0.91875            0.91250            0.95625   \n",
      "4             0.91875            0.91250            0.94375   \n",
      "5             0.93125            0.91875            0.93125   \n",
      "6             0.94375            0.92500            0.95625   \n",
      "7             0.93125            0.93125            0.93750   \n",
      "8             0.90625            0.88750            0.95000   \n",
      "9             0.93125            0.92500            0.93750   \n",
      "10            0.93125            0.91250            0.93125   \n",
      "11            0.90000            0.88125            0.93750   \n",
      "12            0.91875            0.82500            0.88750   \n",
      "13            0.94375            0.89375            0.93750   \n",
      "14            0.90000            0.90000            0.94375   \n",
      "15            0.91875            0.91875            0.95625   \n",
      "16            0.91875            0.92500            0.94375   \n",
      "17            0.93125            0.74375            0.92500   \n",
      "18            0.94375            0.92500            0.93125   \n",
      "19            0.93750            0.93125            0.93750   \n",
      "20            0.91875            0.84375            0.94375   \n",
      "21            0.93125            0.92500            0.93750   \n",
      "22            0.93125            0.88750            0.93125   \n",
      "23            0.90000            0.90625            0.91875   \n",
      "\n",
      "    split4_test_score  mean_test_score  std_test_score  rank_test_score  \n",
      "0             0.86875          0.88500        0.036358               22  \n",
      "1             0.90000          0.92000        0.019922                9  \n",
      "2             0.90625          0.91500        0.023251               16  \n",
      "3             0.93125          0.92125        0.022569                7  \n",
      "4             0.90625          0.92125        0.012870                7  \n",
      "5             0.91250          0.92500        0.007906                3  \n",
      "6             0.91250          0.92375        0.026041                5  \n",
      "7             0.93125          0.93250        0.002500                2  \n",
      "8             0.88750          0.91375        0.025739               17  \n",
      "9             0.87500          0.91625        0.022220               14  \n",
      "10            0.90625          0.92375        0.012119                4  \n",
      "11            0.88750          0.90375        0.020000               19  \n",
      "12            0.86875          0.88500        0.036358               22  \n",
      "13            0.90625          0.92000        0.018708               11  \n",
      "14            0.92500          0.92000        0.017410                9  \n",
      "15            0.91250          0.91875        0.022009               13  \n",
      "16            0.90000          0.92250        0.014031                6  \n",
      "17            0.89375          0.87875        0.068988               24  \n",
      "18            0.91250          0.91875        0.021287               12  \n",
      "19            0.92500          0.93375        0.005000                1  \n",
      "20            0.87500          0.90250        0.037417               20  \n",
      "21            0.87500          0.91625        0.022220               14  \n",
      "22            0.88750          0.91375        0.021433               18  \n",
      "23            0.87500          0.89500        0.017410               21  \n",
      "[{'alpha': 0.0001, 'early_stopping': True, 'hidden_layer_sizes': (32, 32, 32), 'learning_rate_init': 0.001, 'max_iter': 500, 'random_state': 4211}, {'alpha': 0.0001, 'early_stopping': True, 'hidden_layer_sizes': (32, 32, 32), 'learning_rate_init': 0.01, 'max_iter': 500, 'random_state': 4211}, {'alpha': 0.0001, 'early_stopping': True, 'hidden_layer_sizes': (32, 32, 32), 'learning_rate_init': 0.1, 'max_iter': 500, 'random_state': 4211}, {'alpha': 0.0001, 'early_stopping': True, 'hidden_layer_sizes': (64, 64, 64), 'learning_rate_init': 0.001, 'max_iter': 500, 'random_state': 4211}, {'alpha': 0.0001, 'early_stopping': True, 'hidden_layer_sizes': (64, 64, 64), 'learning_rate_init': 0.01, 'max_iter': 500, 'random_state': 4211}, {'alpha': 0.0001, 'early_stopping': True, 'hidden_layer_sizes': (64, 64, 64), 'learning_rate_init': 0.1, 'max_iter': 500, 'random_state': 4211}, {'alpha': 0.0001, 'early_stopping': True, 'hidden_layer_sizes': (128, 128, 128), 'learning_rate_init': 0.001, 'max_iter': 500, 'random_state': 4211}, {'alpha': 0.0001, 'early_stopping': True, 'hidden_layer_sizes': (128, 128, 128), 'learning_rate_init': 0.01, 'max_iter': 500, 'random_state': 4211}, {'alpha': 0.0001, 'early_stopping': True, 'hidden_layer_sizes': (128, 128, 128), 'learning_rate_init': 0.1, 'max_iter': 500, 'random_state': 4211}, {'alpha': 0.0001, 'early_stopping': True, 'hidden_layer_sizes': (256, 256, 256), 'learning_rate_init': 0.001, 'max_iter': 500, 'random_state': 4211}, {'alpha': 0.0001, 'early_stopping': True, 'hidden_layer_sizes': (256, 256, 256), 'learning_rate_init': 0.01, 'max_iter': 500, 'random_state': 4211}, {'alpha': 0.0001, 'early_stopping': True, 'hidden_layer_sizes': (256, 256, 256), 'learning_rate_init': 0.1, 'max_iter': 500, 'random_state': 4211}, {'alpha': 0.1, 'early_stopping': True, 'hidden_layer_sizes': (32, 32, 32), 'learning_rate_init': 0.001, 'max_iter': 500, 'random_state': 4211}, {'alpha': 0.1, 'early_stopping': True, 'hidden_layer_sizes': (32, 32, 32), 'learning_rate_init': 0.01, 'max_iter': 500, 'random_state': 4211}, {'alpha': 0.1, 'early_stopping': True, 'hidden_layer_sizes': (32, 32, 32), 'learning_rate_init': 0.1, 'max_iter': 500, 'random_state': 4211}, {'alpha': 0.1, 'early_stopping': True, 'hidden_layer_sizes': (64, 64, 64), 'learning_rate_init': 0.001, 'max_iter': 500, 'random_state': 4211}, {'alpha': 0.1, 'early_stopping': True, 'hidden_layer_sizes': (64, 64, 64), 'learning_rate_init': 0.01, 'max_iter': 500, 'random_state': 4211}, {'alpha': 0.1, 'early_stopping': True, 'hidden_layer_sizes': (64, 64, 64), 'learning_rate_init': 0.1, 'max_iter': 500, 'random_state': 4211}, {'alpha': 0.1, 'early_stopping': True, 'hidden_layer_sizes': (128, 128, 128), 'learning_rate_init': 0.001, 'max_iter': 500, 'random_state': 4211}, {'alpha': 0.1, 'early_stopping': True, 'hidden_layer_sizes': (128, 128, 128), 'learning_rate_init': 0.01, 'max_iter': 500, 'random_state': 4211}, {'alpha': 0.1, 'early_stopping': True, 'hidden_layer_sizes': (128, 128, 128), 'learning_rate_init': 0.1, 'max_iter': 500, 'random_state': 4211}, {'alpha': 0.1, 'early_stopping': True, 'hidden_layer_sizes': (256, 256, 256), 'learning_rate_init': 0.001, 'max_iter': 500, 'random_state': 4211}, {'alpha': 0.1, 'early_stopping': True, 'hidden_layer_sizes': (256, 256, 256), 'learning_rate_init': 0.01, 'max_iter': 500, 'random_state': 4211}, {'alpha': 0.1, 'early_stopping': True, 'hidden_layer_sizes': (256, 256, 256), 'learning_rate_init': 0.1, 'max_iter': 500, 'random_state': 4211}]\n"
     ]
    }
   ],
   "source": [
    "from sklearn.model_selection import GridSearchCV\n",
    "\n",
    "selected_train_df = selected_lr_train_df     #selected test dataset\n",
    "selected_test_df = selected_lr_test_df       #selected train dataset\n",
    "res_train_df = saleprice_df_edit['label']    #training saleprice and label\n",
    "res_test_df = test_df['label']               #test saleprice and label\n",
    "\n",
    "random_state=[100, 200, 300, 400, 500]\n",
    "parameters={'hidden_layer_sizes':[(32,32,32),(64,64,64),(128,128,128),(256,256,256)], 'alpha':[0.0001, 0.1], 'learning_rate_init':[0.001,0.01,0.1], 'early_stopping': [True], 'random_state': [4211], 'max_iter': [500]}\n",
    "X_train, X_test, y_train, y_test = train_test_split(selected_train_df, res_train_df, test_size=0.2, random_state=4211)\n",
    "\n",
    "clf_model_tuning = MLPClassifier()\n",
    "grid_tuning = GridSearchCV(clf_model_tuning, parameters, cv=5, scoring= 'accuracy')\n",
    "grid_tuning.fit(X_train, y_train)\n",
    "\n",
    "print(pd.DataFrame(grid_tuning.cv_results_))\n",
    "print(grid_tuning.cv_results_['params'])"
   ]
  },
  {
   "cell_type": "markdown",
   "metadata": {},
   "source": [
    "Q16"
   ]
  },
  {
   "cell_type": "code",
   "execution_count": 19,
   "metadata": {},
   "outputs": [
    {
     "name": "stdout",
     "output_type": "stream",
     "text": [
      "{'alpha': 0.1, 'early_stopping': True, 'hidden_layer_sizes': (128, 128, 128), 'learning_rate_init': 0.01, 'max_iter': 500, 'random_state': 4211}\n",
      "Accuracy:  0.93\n",
      "Mean score:  0.9337500000000001\n",
      "STD score:  0.004999999999999982\n",
      "\n",
      "{'alpha': 0.0001, 'early_stopping': True, 'hidden_layer_sizes': (128, 128, 128), 'learning_rate_init': 0.01, 'max_iter': 500, 'random_state': 4211}\n",
      "Accuracy:  0.93\n",
      "Mean score:  0.9325000000000001\n",
      "STD score:  0.002499999999999991\n",
      "\n",
      "{'alpha': 0.0001, 'early_stopping': True, 'hidden_layer_sizes': (64, 64, 64), 'learning_rate_init': 0.1, 'max_iter': 500, 'random_state': 4211}\n",
      "Accuracy:  0.92\n",
      "Mean score:  0.925\n",
      "STD score:  0.007905694150420974\n",
      "\n"
     ]
    }
   ],
   "source": [
    "top3_tuning_settings = np.argpartition(grid_tuning.cv_results_['rank_test_score'], 3)[:3]\n",
    "tuning_results_df = pd.DataFrame(grid_tuning.cv_results_)\n",
    "top3_tuning_results_params = tuning_results_df['params'].iloc[top3_tuning_settings]\n",
    "for index in top3_tuning_settings:\n",
    "    params = tuning_results_df['params'].iloc[index]\n",
    "    nn_classifier_model = MLPClassifier(max_iter=500, early_stopping= True, hidden_layer_sizes= params['hidden_layer_sizes'], random_state= 4211, learning_rate_init= params['learning_rate_init']).fit(X_train, y_train)\n",
    "    nn_classifier_predict = nn_classifier_model.predict(X_test)\n",
    "    print(params)\n",
    "    print(\"Accuracy: \", accuracy_score(y_test, nn_classifier_predict))\n",
    "    print(\"Mean score: \", tuning_results_df['mean_test_score'].iloc[index])\n",
    "    print(\"STD score: \", tuning_results_df['std_test_score'].iloc[index])\n",
    "    print(\"\")"
   ]
  },
  {
   "cell_type": "markdown",
   "metadata": {},
   "source": [
    "Q17"
   ]
  },
  {
   "cell_type": "code",
   "execution_count": 20,
   "metadata": {},
   "outputs": [
    {
     "name": "stdout",
     "output_type": "stream",
     "text": [
      "Accuracy:  0.9128540305010894\n",
      "F1 Score:  0.8924731182795699\n",
      "True Negative: 253, False Positive: 22, False Negative: 18, True Positive: 166\n"
     ]
    },
    {
     "data": {
      "text/plain": [
       "<AxesSubplot:>"
      ]
     },
     "execution_count": 20,
     "metadata": {},
     "output_type": "execute_result"
    },
    {
     "data": {
      "image/png": "[encoded data removed]",
      "text/plain": [
       "<Figure size 432x288 with 2 Axes>"
      ]
     },
     "metadata": {
      "needs_background": "light"
     },
     "output_type": "display_data"
    }
   ],
   "source": [
    "best_tuning_params = tuning_results_df['params'].iloc[top3_tuning_settings[0]]\n",
    "best_params_model = MLPClassifier(max_iter= 500, early_stopping= True, hidden_layer_sizes= best_tuning_params['hidden_layer_sizes'], random_state= 4211, learning_rate_init= best_tuning_params['learning_rate_init']).fit(selected_train_df, res_train_df)\n",
    "best_predict = best_params_model.predict(selected_test_df)\n",
    "print(\"Accuracy: \", accuracy_score(res_test_df, best_predict))\n",
    "print(\"F1 Score: \", f1_score(res_test_df, best_predict))\n",
    "\n",
    "tn, fp, fn, tp = confusion_matrix(res_test_df, best_predict).ravel()\n",
    "conf_matrix = confusion_matrix(res_test_df, best_predict)\n",
    "print(f\"True Negative: {tn}, False Positive: {fp}, False Negative: {fn}, True Positive: {tp}\")\n",
    "sns.heatmap(conf_matrix)"
   ]
  },
  {
   "cell_type": "code",
   "execution_count": null,
   "metadata": {},
   "outputs": [],
   "source": []
  }
 ],
 "metadata": {
  "accelerator": "GPU",
  "colab": {
   "collapsed_sections": [],
   "provenance": []
  },
  "kernelspec": {
   "display_name": "Python 3",
   "language": "python",
   "name": "python3"
  },
  "language_info": {
   "codemirror_mode": {
    "name": "ipython",
    "version": 3
   },
   "file_extension": ".py",
   "mimetype": "text/x-python",
   "name": "python",
   "nbconvert_exporter": "python",
   "pygments_lexer": "ipython3",
   "version": "3.8.8"
  }
 },
 "nbformat": 4,
 "nbformat_minor": 1
}
